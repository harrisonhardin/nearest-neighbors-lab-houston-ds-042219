{
 "cells": [
  {
   "cell_type": "markdown",
   "metadata": {},
   "source": [
    "# Nearest Neighbors Lab"
   ]
  },
  {
   "cell_type": "markdown",
   "metadata": {},
   "source": [
    "### Introduction\n",
    "\n",
    "In this lab, you apply nearest neighbors technique to help a taxi company predict the length of their rides.  Imagine that we are hired to consult for LiftOff, a limo and taxi service that is just opening up in NYC.  Liftoff wants it's taxi drivers to target longer rides, as the longer the ride the more money it makes.  LiftOff has the following theory:\n",
    "\n",
    "* the pickup location of a taxi ride can help predict the length of the ride.  \n",
    "\n",
    "\n",
    "\n",
    "LiftOff asks us to do some analysis to write a function that will allow it to **predict the length of a taxi ride for any given location **.\n",
    "\n",
    "Our technique will be the following:\n",
    "  * **Collect** Obtain the data containing all of the taxi information, and only select the attributes of taxi trips that we need \n",
    "  * ** Explore ** Examine the attributes of our data, and plot some of our data on a map\n",
    "  * ** Train ** Write our nearest neighbors formula, and change the number of nearby trips to predict the length of a new trip\n",
    "  * ** Predict ** Use our function to predict trip lengths of new locations"
   ]
  },
  {
   "cell_type": "markdown",
   "metadata": {},
   "source": [
    "### Collect and Explore the data"
   ]
  },
  {
   "cell_type": "markdown",
   "metadata": {},
   "source": [
    "#### Collect the Data"
   ]
  },
  {
   "cell_type": "markdown",
   "metadata": {},
   "source": [
    "Luckily for us, [NYC Open Data](https://opendata.cityofnewyork.us/) collects information about NYC taxi trips and provides this data on [its website](https://data.cityofnewyork.us/Transportation/2014-Yellow-Taxi-Trip-Data/gn7m-em8n)."
   ]
  },
  {
   "cell_type": "markdown",
   "metadata": {},
   "source": [
    "![](./nyc-taxi.png)"
   ]
  },
  {
   "cell_type": "markdown",
   "metadata": {},
   "source": [
    "For your reading pleasure, the data has already been downloaded into the [trips.json](https://github.com/learn-co-curriculum/nearest-neighbors-lab/blob/master/trips.json) file in this lab which you can find here.  We'll use Python's `json` library to take the data from the `trips.json` file and store it as a variable in our notebook."
   ]
  },
  {
   "cell_type": "code",
   "execution_count": 41,
   "metadata": {},
   "outputs": [],
   "source": [
    "import json\n",
    "# First, read the file\n",
    "trips_file = open('trips.json')\n",
    "# Then, convert contents to list of dictionaries \n",
    "trips = json.load(trips_file)"
   ]
  },
  {
   "cell_type": "markdown",
   "metadata": {},
   "source": [
    "> Press shift + enter"
   ]
  },
  {
   "cell_type": "markdown",
   "metadata": {},
   "source": [
    "#### Explore the data"
   ]
  },
  {
   "cell_type": "markdown",
   "metadata": {},
   "source": [
    "The next step is to explore the data.  First, let's see how many trips we have."
   ]
  },
  {
   "cell_type": "code",
   "execution_count": 42,
   "metadata": {},
   "outputs": [
    {
     "data": {
      "text/plain": [
       "1000"
      ]
     },
     "execution_count": 42,
     "metadata": {},
     "output_type": "execute_result"
    }
   ],
   "source": [
    "len(trips)"
   ]
  },
  {
   "cell_type": "code",
   "execution_count": 43,
   "metadata": {},
   "outputs": [
    {
     "data": {
      "text/plain": [
       "{'dropoff_datetime': '2014-11-26T22:31:00.000',\n",
       " 'dropoff_latitude': '40.746769999999998',\n",
       " 'dropoff_longitude': '-73.997450000000001',\n",
       " 'fare_amount': '52',\n",
       " 'imp_surcharge': '0',\n",
       " 'mta_tax': '0.5',\n",
       " 'passenger_count': '1',\n",
       " 'payment_type': 'CSH',\n",
       " 'pickup_datetime': '2014-11-26T21:59:00.000',\n",
       " 'pickup_latitude': '40.64499',\n",
       " 'pickup_longitude': '-73.781149999999997',\n",
       " 'rate_code': '2',\n",
       " 'tip_amount': '0',\n",
       " 'tolls_amount': '5.3300000000000001',\n",
       " 'total_amount': '57.829999999999998',\n",
       " 'trip_distance': '18.379999999999999',\n",
       " 'vendor_id': 'VTS'}"
      ]
     },
     "execution_count": 43,
     "metadata": {},
     "output_type": "execute_result"
    }
   ],
   "source": [
    "trips[0]"
   ]
  },
  {
   "cell_type": "markdown",
   "metadata": {},
   "source": [
    "Not bad at all.  Now let's see what each individual trip looks like.  Each trip is a dictionary, so we can see the attributes of each trip with the `keys` function."
   ]
  },
  {
   "cell_type": "code",
   "execution_count": 44,
   "metadata": {
    "scrolled": true
   },
   "outputs": [
    {
     "data": {
      "text/plain": [
       "dict_keys(['dropoff_datetime', 'dropoff_latitude', 'dropoff_longitude', 'fare_amount', 'imp_surcharge', 'mta_tax', 'passenger_count', 'payment_type', 'pickup_datetime', 'pickup_latitude', 'pickup_longitude', 'rate_code', 'tip_amount', 'tolls_amount', 'total_amount', 'trip_distance', 'vendor_id'])"
      ]
     },
     "execution_count": 44,
     "metadata": {},
     "output_type": "execute_result"
    }
   ],
   "source": [
    "trips[0].keys()"
   ]
  },
  {
   "cell_type": "markdown",
   "metadata": {},
   "source": [
    "#### Limit our data"
   ]
  },
  {
   "cell_type": "markdown",
   "metadata": {},
   "source": [
    "Ok, now that we have explored some of our data, let's begin to think through what data is relevant for our task."
   ]
  },
  {
   "cell_type": "markdown",
   "metadata": {
    "collapsed": true
   },
   "source": [
    "Remember that our task is to **use the trip location to predict the length of a trip**.  So let's select the `pickup_latitude`, `pickup_longitude`, and `trip_distance` from each trip.  That will give us the trip location and related `trip_distance` for each trip.  Then based on these **actual** trip distances we can use nearest neighbors to predict an **expected** trip distance for a trip, provided an **actual** location."
   ]
  },
  {
   "cell_type": "markdown",
   "metadata": {},
   "source": [
    "** Add in about trip distance ** "
   ]
  },
  {
   "cell_type": "markdown",
   "metadata": {},
   "source": [
    "Write a function called `parse_trips(trips)` that returns a list of the trips with only the following attributes: \n",
    "* `trip_distance`\n",
    "* `pickup_latitude`\n",
    "* `pickup_longitude`"
   ]
  },
  {
   "cell_type": "code",
   "execution_count": 45,
   "metadata": {},
   "outputs": [],
   "source": [
    "def parse_trips(trips):\n",
    "    return list(map(lambda trip: {'pickup_latitude': trip['pickup_latitude'], 'pickup_longitude': trip['pickup_longitude'], 'trip_distance': trip['trip_distance']}, trips))"
   ]
  },
  {
   "cell_type": "code",
   "execution_count": 46,
   "metadata": {},
   "outputs": [
    {
     "data": {
      "text/plain": [
       "{'pickup_latitude': '40.64499',\n",
       " 'pickup_longitude': '-73.781149999999997',\n",
       " 'trip_distance': '18.379999999999999'}"
      ]
     },
     "execution_count": 46,
     "metadata": {},
     "output_type": "execute_result"
    }
   ],
   "source": [
    "parsed_trips = parse_trips(trips)\n",
    "parsed_trips and parsed_trips[0]\n",
    "\n",
    "# {'pickup_latitude': '40.64499',\n",
    "#  'pickup_longitude': '-73.78115',\n",
    "#  'trip_distance': '18.38'}"
   ]
  },
  {
   "cell_type": "markdown",
   "metadata": {},
   "source": [
    "Now, there's just one change to make.  If you look at one of the trips, all of the values are strings.  Let's change them to be floats."
   ]
  },
  {
   "cell_type": "code",
   "execution_count": 47,
   "metadata": {},
   "outputs": [],
   "source": [
    "def float_values(trips):    \n",
    "    return list(map(lambda trip: {'trip_distance': float(trip['trip_distance']), 'pickup_latitude': float(trip['pickup_latitude']), 'pickup_longitude': float(trip['pickup_longitude'])},trips))"
   ]
  },
  {
   "cell_type": "code",
   "execution_count": 48,
   "metadata": {},
   "outputs": [],
   "source": [
    "cleaned_trips = float_values(parsed_trips)"
   ]
  },
  {
   "cell_type": "code",
   "execution_count": 49,
   "metadata": {},
   "outputs": [
    {
     "data": {
      "text/plain": [
       "{'trip_distance': 18.38,\n",
       " 'pickup_latitude': 40.64499,\n",
       " 'pickup_longitude': -73.78115}"
      ]
     },
     "execution_count": 49,
     "metadata": {},
     "output_type": "execute_result"
    }
   ],
   "source": [
    "cleaned_trips[0]\n",
    "\n",
    "# {'pickup_latitude': 40.64499,\n",
    "#  'pickup_longitude': -73.78115,\n",
    "#  'trip_distance': 18.38}"
   ]
  },
  {
   "cell_type": "markdown",
   "metadata": {},
   "source": [
    "### Exploring the Data"
   ]
  },
  {
   "cell_type": "markdown",
   "metadata": {},
   "source": [
    "Now that we have paired down our data, let's get a sense of our trip data.  We can use the `folium` Python library to plot a map of Manhattan, and our data.  First we must import `folium`, and then use the `Map` function to pass through a `location`, and `zoom_start`.  If a map isn't showing up below, copy and paste the command `pip install -r requirements.txt` into your terminal to install `folium` then try again."
   ]
  },
  {
   "cell_type": "code",
   "execution_count": 50,
   "metadata": {},
   "outputs": [],
   "source": [
    "import folium\n",
    "manhattan_map = folium.Map(location=[40.7589, -73.9851], zoom_start=11)"
   ]
  },
  {
   "cell_type": "code",
   "execution_count": 51,
   "metadata": {
    "scrolled": true
   },
   "outputs": [
    {
     "data": {
      "text/html": [
       "<div style=\"width:100%;\"><div style=\"position:relative;width:100%;height:0;padding-bottom:60%;\"><iframe src=\"data:text/html;charset=utf-8;base64,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\" style=\"position:absolute;width:100%;height:100%;left:0;top:0;border:none !important;\" allowfullscreen webkitallowfullscreen mozallowfullscreen></iframe></div></div>"
      ],
      "text/plain": [
       "<folium.folium.Map at 0x7feee2f09da0>"
      ]
     },
     "execution_count": 51,
     "metadata": {},
     "output_type": "execute_result"
    }
   ],
   "source": [
    "manhattan_map"
   ]
  },
  {
   "cell_type": "markdown",
   "metadata": {},
   "source": [
    "Ok, now let's see how we could add a dot to mark a specific location.  We'll start with Times Square."
   ]
  },
  {
   "cell_type": "code",
   "execution_count": 52,
   "metadata": {},
   "outputs": [
    {
     "data": {
      "text/plain": [
       "<folium.vector_layers.CircleMarker at 0x7feec224ab70>"
      ]
     },
     "execution_count": 52,
     "metadata": {},
     "output_type": "execute_result"
    }
   ],
   "source": [
    "marker = folium.CircleMarker(location = [40.7589, -73.9851], radius=10)\n",
    "marker.add_to(manhattan_map)"
   ]
  },
  {
   "cell_type": "markdown",
   "metadata": {},
   "source": [
    "Above, we first create a marker.  Then we add that circle marker to the `manhattan_map` we created earlier. "
   ]
  },
  {
   "cell_type": "code",
   "execution_count": 53,
   "metadata": {
    "scrolled": false
   },
   "outputs": [
    {
     "data": {
      "text/html": [
       "<div style=\"width:100%;\"><div style=\"position:relative;width:100%;height:0;padding-bottom:60%;\"><iframe src=\"data:text/html;charset=utf-8;base64,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\" style=\"position:absolute;width:100%;height:100%;left:0;top:0;border:none !important;\" allowfullscreen webkitallowfullscreen mozallowfullscreen></iframe></div></div>"
      ],
      "text/plain": [
       "<folium.folium.Map at 0x7feee2f09da0>"
      ]
     },
     "execution_count": 53,
     "metadata": {},
     "output_type": "execute_result"
    }
   ],
   "source": [
    "manhattan_map"
   ]
  },
  {
   "cell_type": "markdown",
   "metadata": {},
   "source": [
    "Do you see that blue dot near Time's Square?  That is our marker.  \n",
    "\n",
    "So now that we can plot one marker on a map, we should have a sense of how we can plot many markers on a map to display our taxi ride data.  We simply plot a map, and then we add a marker for each location of a taxi trip.\n",
    "\n",
    "Now let's write some functions to allow us to plot maps and add markers a little more easily.  "
   ]
  },
  {
   "cell_type": "markdown",
   "metadata": {},
   "source": [
    "#### Writing some map plotting functions"
   ]
  },
  {
   "cell_type": "markdown",
   "metadata": {},
   "source": [
    "As a first step towards this, note that the functions to create both a marker and map each take in a location as two element list, representing the latitude and longitude values.  Take another look:\n",
    "\n",
    "```python\n",
    "marker = folium.CircleMarker(location = [40.7589, -73.9851])\n",
    "manhattan_map = folium.Map(location=[40.7589, -73.9851])\n",
    "```\n",
    "\n",
    "So let's write a function called to create this two element list from a trip.  Write a function called `location` that  takes in a trip as an argument and returns a list where the first element is the latitude and the second is the longitude.  Remember that a location looks like the following:"
   ]
  },
  {
   "cell_type": "code",
   "execution_count": 58,
   "metadata": {},
   "outputs": [
    {
     "data": {
      "text/plain": [
       "{'pickup_latitude': 40.64499,\n",
       " 'pickup_longitude': -73.78115,\n",
       " 'trip_distance': 18.38}"
      ]
     },
     "execution_count": 58,
     "metadata": {},
     "output_type": "execute_result"
    }
   ],
   "source": [
    "first_trip = {'pickup_latitude': 40.64499, 'pickup_longitude': -73.78115,  'trip_distance': 18.38}\n",
    "first_trip"
   ]
  },
  {
   "cell_type": "code",
   "execution_count": 59,
   "metadata": {},
   "outputs": [],
   "source": [
    "def location(trip):\n",
    "    return [trip['pickup_latitude'], trip['pickup_longitude']]"
   ]
  },
  {
   "cell_type": "code",
   "execution_count": 60,
   "metadata": {},
   "outputs": [
    {
     "data": {
      "text/plain": [
       "[40.64499, -73.78115]"
      ]
     },
     "execution_count": 60,
     "metadata": {},
     "output_type": "execute_result"
    }
   ],
   "source": [
    "first_location = location(first_trip) # [40.64499, -73.78115]\n",
    "first_location # [40.64499, -73.78115]"
   ]
  },
  {
   "cell_type": "markdown",
   "metadata": {},
   "source": [
    "Ok, now that we can turn a trip into a location, let's turn a location into a marker.  Write a function called `to_marker` that takes in a location (in the form of a list) as an argument, and returns a folium `circleMarker` for that location.  The radius of the marker should always equal 6."
   ]
  },
  {
   "cell_type": "code",
   "execution_count": 63,
   "metadata": {},
   "outputs": [],
   "source": [
    "def to_marker(location):\n",
    "    return folium.CircleMarker(location, radius=6)"
   ]
  },
  {
   "cell_type": "code",
   "execution_count": 64,
   "metadata": {},
   "outputs": [
    {
     "data": {
      "text/plain": [
       "6"
      ]
     },
     "execution_count": 64,
     "metadata": {},
     "output_type": "execute_result"
    }
   ],
   "source": [
    "import json\n",
    "times_square_marker = to_marker([40.7589, -73.9851])\n",
    "\n",
    "times_square_marker and times_square_marker.location # [40.7589, -73.9851]\n",
    "times_square_marker and json.loads(times_square_marker.options)['radius'] # 6"
   ]
  },
  {
   "cell_type": "markdown",
   "metadata": {},
   "source": [
    "Ok, now that we know how to produce a single marker, let's write a function to produce lots.  We can write a function called `markers_from_trips` that takes in a list of trips, and returns a marker object for each trip.  "
   ]
  },
  {
   "cell_type": "code",
   "execution_count": 73,
   "metadata": {},
   "outputs": [],
   "source": [
    "def markers_from_trips(trips):\n",
    "    locations = list(map(lambda trip: location(trip), trips))\n",
    "    return list(map(lambda location: to_marker(location), locations))"
   ]
  },
  {
   "cell_type": "code",
   "execution_count": 74,
   "metadata": {},
   "outputs": [],
   "source": [
    "trip_markers = markers_from_trips(cleaned_trips)"
   ]
  },
  {
   "cell_type": "code",
   "execution_count": 75,
   "metadata": {},
   "outputs": [
    {
     "data": {
      "text/plain": [
       "[{'trip_distance': 18.38,\n",
       "  'pickup_latitude': 40.64499,\n",
       "  'pickup_longitude': -73.78115},\n",
       " {'trip_distance': 1.3,\n",
       "  'pickup_latitude': 40.766931,\n",
       "  'pickup_longitude': -73.982098},\n",
       " {'trip_distance': 4.5,\n",
       "  'pickup_latitude': 40.77773,\n",
       "  'pickup_longitude': -73.951902},\n",
       " {'trip_distance': 2.4,\n",
       "  'pickup_latitude': 40.795678,\n",
       "  'pickup_longitude': -73.971049}]"
      ]
     },
     "execution_count": 75,
     "metadata": {},
     "output_type": "execute_result"
    }
   ],
   "source": [
    "cleaned_trips[0:4]"
   ]
  },
  {
   "cell_type": "code",
   "execution_count": 76,
   "metadata": {},
   "outputs": [
    {
     "data": {
      "text/plain": [
       "[[40.64499, -73.78115],\n",
       " [40.766931, -73.982098],\n",
       " [40.77773, -73.951902],\n",
       " [40.795678, -73.971049]]"
      ]
     },
     "execution_count": 76,
     "metadata": {},
     "output_type": "execute_result"
    }
   ],
   "source": [
    "trip_markers and len(trip_markers) # 1000\n",
    "\n",
    "list(map(lambda marker: marker.location, trip_markers[0:4]))\n",
    "# [[40.64499, -73.78115],\n",
    "#  [40.766931, -73.982098],\n",
    "#  [40.77773, -73.951902],\n",
    "#  [40.795678, -73.971049]]"
   ]
  },
  {
   "cell_type": "markdown",
   "metadata": {},
   "source": [
    "Ok, now that we have a function that creates locations, and a function that creates markers, it is time to write a function to plot a map. \n",
    "\n",
    "Write a function called `map_from` that, provided the first argument of a list location and second argument an integer representing the `zoom_start`, returns a `folium` map the corresponding location and `zoom_start` attributes.\n",
    "\n",
    "> Hint: The following is how to write a map with folium:\n",
    "> ```python \n",
    "    folium.Map(location=location, zoom_start=zoom_amount)\n",
    "> ```"
   ]
  },
  {
   "cell_type": "code",
   "execution_count": 79,
   "metadata": {},
   "outputs": [],
   "source": [
    "def map_from(location, zoom_amount):\n",
    "    return folium.Map(location=location, zoom_start=zoom_amount)"
   ]
  },
  {
   "cell_type": "code",
   "execution_count": 80,
   "metadata": {},
   "outputs": [
    {
     "data": {
      "text/plain": [
       "15"
      ]
     },
     "execution_count": 80,
     "metadata": {},
     "output_type": "execute_result"
    }
   ],
   "source": [
    "times_square_map = map_from([40.7589, -73.9851], 15)\n",
    "times_square_map and times_square_map.location # [40.7589, -73.9851]\n",
    "times_square_map and times_square_map.zoom_start # 15"
   ]
  },
  {
   "cell_type": "code",
   "execution_count": 81,
   "metadata": {
    "scrolled": true
   },
   "outputs": [
    {
     "data": {
      "text/html": [
       "<div style=\"width:100%;\"><div style=\"position:relative;width:100%;height:0;padding-bottom:60%;\"><iframe src=\"data:text/html;charset=utf-8;base64,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\" style=\"position:absolute;width:100%;height:100%;left:0;top:0;border:none !important;\" allowfullscreen webkitallowfullscreen mozallowfullscreen></iframe></div></div>"
      ],
      "text/plain": [
       "<folium.folium.Map at 0x7feef027b748>"
      ]
     },
     "execution_count": 81,
     "metadata": {},
     "output_type": "execute_result"
    }
   ],
   "source": [
    "times_square_marker and times_square_marker.add_to(times_square_map)\n",
    "times_square_map"
   ]
  },
  {
   "cell_type": "markdown",
   "metadata": {},
   "source": [
    "Now that we have a marker and a map, now let's write a function that adds a lot of markers to a map.  This function should add each marker in the list to the map object then return the updated map object."
   ]
  },
  {
   "cell_type": "code",
   "execution_count": 87,
   "metadata": {},
   "outputs": [],
   "source": [
    "manhattan_map = map_from([40.7589, -73.9851], 13)"
   ]
  },
  {
   "cell_type": "code",
   "execution_count": 88,
   "metadata": {},
   "outputs": [],
   "source": [
    "def add_markers(markers, map_obj):\n",
    "    return list(map(lambda marker: marker.add_to(map_obj), markers))"
   ]
  },
  {
   "cell_type": "code",
   "execution_count": 85,
   "metadata": {
    "scrolled": false
   },
   "outputs": [],
   "source": [
    "map_with_markers = add_markers(trip_markers, manhattan_map)"
   ]
  },
  {
   "cell_type": "code",
   "execution_count": 86,
   "metadata": {},
   "outputs": [
    {
     "data": {
      "text/plain": [
       "[<folium.vector_layers.CircleMarker at 0x7feec223a5f8>,\n",
       " <folium.vector_layers.CircleMarker at 0x7feec223ada0>,\n",
       " <folium.vector_layers.CircleMarker at 0x7feec223a9b0>,\n",
       " <folium.vector_layers.CircleMarker at 0x7feec223ae48>,\n",
       " <folium.vector_layers.CircleMarker at 0x7feec223a9e8>,\n",
       " <folium.vector_layers.CircleMarker at 0x7feec21b1390>,\n",
       " <folium.vector_layers.CircleMarker at 0x7feec21b14a8>,\n",
       " <folium.vector_layers.CircleMarker at 0x7feee19a2940>,\n",
       " <folium.vector_layers.CircleMarker at 0x7feec223ad30>,\n",
       " <folium.vector_layers.CircleMarker at 0x7feec223af60>,\n",
       " <folium.vector_layers.CircleMarker at 0x7feec223aa58>,\n",
       " <folium.vector_layers.CircleMarker at 0x7feef3396d68>,\n",
       " <folium.vector_layers.CircleMarker at 0x7feec224f828>,\n",
       " <folium.vector_layers.CircleMarker at 0x7feee2f09be0>,\n",
       " <folium.vector_layers.CircleMarker at 0x7feec224fe48>,\n",
       " <folium.vector_layers.CircleMarker at 0x7feec224ac50>,\n",
       " <folium.vector_layers.CircleMarker at 0x7feec224a898>,\n",
       " <folium.vector_layers.CircleMarker at 0x7feec224a710>,\n",
       " <folium.vector_layers.CircleMarker at 0x7feec224a860>,\n",
       " <folium.vector_layers.CircleMarker at 0x7feec224a208>,\n",
       " <folium.vector_layers.CircleMarker at 0x7feec224a2e8>,\n",
       " <folium.vector_layers.CircleMarker at 0x7feec224a780>,\n",
       " <folium.vector_layers.CircleMarker at 0x7feec21b14e0>,\n",
       " <folium.vector_layers.CircleMarker at 0x7feec21b1518>,\n",
       " <folium.vector_layers.CircleMarker at 0x7feec21b1320>,\n",
       " <folium.vector_layers.CircleMarker at 0x7feec21b16d8>,\n",
       " <folium.vector_layers.CircleMarker at 0x7feec21b1668>,\n",
       " <folium.vector_layers.CircleMarker at 0x7feec21b15f8>,\n",
       " <folium.vector_layers.CircleMarker at 0x7feec224ae80>,\n",
       " <folium.vector_layers.CircleMarker at 0x7feec224a160>,\n",
       " <folium.vector_layers.CircleMarker at 0x7feee2f09898>,\n",
       " <folium.vector_layers.CircleMarker at 0x7feef017e0b8>,\n",
       " <folium.vector_layers.CircleMarker at 0x7feec224ae10>,\n",
       " <folium.vector_layers.CircleMarker at 0x7feec224fa58>,\n",
       " <folium.vector_layers.CircleMarker at 0x7feec224f278>,\n",
       " <folium.vector_layers.CircleMarker at 0x7feec223ae10>,\n",
       " <folium.vector_layers.CircleMarker at 0x7feec223add8>,\n",
       " <folium.vector_layers.CircleMarker at 0x7feec21b15c0>,\n",
       " <folium.vector_layers.CircleMarker at 0x7feec21b1630>,\n",
       " <folium.vector_layers.CircleMarker at 0x7feec21b1278>,\n",
       " <folium.vector_layers.CircleMarker at 0x7feec21b1748>,\n",
       " <folium.vector_layers.CircleMarker at 0x7feec21b17f0>,\n",
       " <folium.vector_layers.CircleMarker at 0x7feec21b1898>,\n",
       " <folium.vector_layers.CircleMarker at 0x7feec21b1860>,\n",
       " <folium.vector_layers.CircleMarker at 0x7feec21b1978>,\n",
       " <folium.vector_layers.CircleMarker at 0x7feec21b1a20>,\n",
       " <folium.vector_layers.CircleMarker at 0x7feec21b1ac8>,\n",
       " <folium.vector_layers.CircleMarker at 0x7feec21b1b70>,\n",
       " <folium.vector_layers.CircleMarker at 0x7feec21b1c18>,\n",
       " <folium.vector_layers.CircleMarker at 0x7feee2f09a90>,\n",
       " <folium.vector_layers.CircleMarker at 0x7feec224f978>,\n",
       " <folium.vector_layers.CircleMarker at 0x7feec224f630>,\n",
       " <folium.vector_layers.CircleMarker at 0x7feec223a748>,\n",
       " <folium.vector_layers.CircleMarker at 0x7feec224aba8>,\n",
       " <folium.vector_layers.CircleMarker at 0x7feec224af60>,\n",
       " <folium.vector_layers.CircleMarker at 0x7feec21b1a58>,\n",
       " <folium.vector_layers.CircleMarker at 0x7feec21b1a90>,\n",
       " <folium.vector_layers.CircleMarker at 0x7feec21b1940>,\n",
       " <folium.vector_layers.CircleMarker at 0x7feec21b12b0>,\n",
       " <folium.vector_layers.CircleMarker at 0x7feec21b17b8>,\n",
       " <folium.vector_layers.CircleMarker at 0x7feec21b12e8>,\n",
       " <folium.vector_layers.CircleMarker at 0x7feec21b1780>,\n",
       " <folium.vector_layers.CircleMarker at 0x7feec21b1cf8>,\n",
       " <folium.vector_layers.CircleMarker at 0x7feec21b1da0>,\n",
       " <folium.vector_layers.CircleMarker at 0x7feec21b1550>,\n",
       " <folium.vector_layers.CircleMarker at 0x7feec21b1e80>,\n",
       " <folium.vector_layers.CircleMarker at 0x7feec21b1f28>,\n",
       " <folium.vector_layers.CircleMarker at 0x7feec21b1fd0>,\n",
       " <folium.vector_layers.CircleMarker at 0x7feec21b1eb8>,\n",
       " <folium.vector_layers.CircleMarker at 0x7feec2173048>,\n",
       " <folium.vector_layers.CircleMarker at 0x7feec2173160>,\n",
       " <folium.vector_layers.CircleMarker at 0x7feec21b19b0>,\n",
       " <folium.vector_layers.CircleMarker at 0x7feec21b1ef0>,\n",
       " <folium.vector_layers.CircleMarker at 0x7feec21b13c8>,\n",
       " <folium.vector_layers.CircleMarker at 0x7feec21b1d30>,\n",
       " <folium.vector_layers.CircleMarker at 0x7feec21b1240>,\n",
       " <folium.vector_layers.CircleMarker at 0x7feec21b1208>,\n",
       " <folium.vector_layers.CircleMarker at 0x7feec21b16a0>,\n",
       " <folium.vector_layers.CircleMarker at 0x7feec21b1be0>,\n",
       " <folium.vector_layers.CircleMarker at 0x7feec21b1908>,\n",
       " <folium.vector_layers.CircleMarker at 0x7feec224f5f8>,\n",
       " <folium.vector_layers.CircleMarker at 0x7feec224a0f0>,\n",
       " <folium.vector_layers.CircleMarker at 0x7feec224ab38>,\n",
       " <folium.vector_layers.CircleMarker at 0x7feec223a630>,\n",
       " <folium.vector_layers.CircleMarker at 0x7feec2173198>,\n",
       " <folium.vector_layers.CircleMarker at 0x7feec2173080>,\n",
       " <folium.vector_layers.CircleMarker at 0x7feec2173358>,\n",
       " <folium.vector_layers.CircleMarker at 0x7feec2173390>,\n",
       " <folium.vector_layers.CircleMarker at 0x7feec2173438>,\n",
       " <folium.vector_layers.CircleMarker at 0x7feec21734e0>,\n",
       " <folium.vector_layers.CircleMarker at 0x7feec2173588>,\n",
       " <folium.vector_layers.CircleMarker at 0x7feec2173630>,\n",
       " <folium.vector_layers.CircleMarker at 0x7feec21736d8>,\n",
       " <folium.vector_layers.CircleMarker at 0x7feec224f9b0>,\n",
       " <folium.vector_layers.CircleMarker at 0x7feec223a940>,\n",
       " <folium.vector_layers.CircleMarker at 0x7feec224a400>,\n",
       " <folium.vector_layers.CircleMarker at 0x7feec21b19e8>,\n",
       " <folium.vector_layers.CircleMarker at 0x7feec21b1588>,\n",
       " <folium.vector_layers.CircleMarker at 0x7feec21b1710>,\n",
       " <folium.vector_layers.CircleMarker at 0x7feec21b1cc0>,\n",
       " <folium.vector_layers.CircleMarker at 0x7feec21b1e10>,\n",
       " <folium.vector_layers.CircleMarker at 0x7feec21b1e48>,\n",
       " <folium.vector_layers.CircleMarker at 0x7feec21735f8>,\n",
       " <folium.vector_layers.CircleMarker at 0x7feec21734a8>,\n",
       " <folium.vector_layers.CircleMarker at 0x7feec21732b0>,\n",
       " <folium.vector_layers.CircleMarker at 0x7feec21732e8>,\n",
       " <folium.vector_layers.CircleMarker at 0x7feec2173208>,\n",
       " <folium.vector_layers.CircleMarker at 0x7feec21737f0>,\n",
       " <folium.vector_layers.CircleMarker at 0x7feec2173828>,\n",
       " <folium.vector_layers.CircleMarker at 0x7feec2173710>,\n",
       " <folium.vector_layers.CircleMarker at 0x7feec2173908>,\n",
       " <folium.vector_layers.CircleMarker at 0x7feec21739b0>,\n",
       " <folium.vector_layers.CircleMarker at 0x7feec2173a58>,\n",
       " <folium.vector_layers.CircleMarker at 0x7feec2173b00>,\n",
       " <folium.vector_layers.CircleMarker at 0x7feec21b1438>,\n",
       " <folium.vector_layers.CircleMarker at 0x7feec224fa90>,\n",
       " <folium.vector_layers.CircleMarker at 0x7feec223ae80>,\n",
       " <folium.vector_layers.CircleMarker at 0x7feec21b18d0>,\n",
       " <folium.vector_layers.CircleMarker at 0x7feec224a9e8>,\n",
       " <folium.vector_layers.CircleMarker at 0x7feec21b1ba8>,\n",
       " <folium.vector_layers.CircleMarker at 0x7feec2173ba8>,\n",
       " <folium.vector_layers.CircleMarker at 0x7feec2173a20>,\n",
       " <folium.vector_layers.CircleMarker at 0x7feec21738d0>,\n",
       " <folium.vector_layers.CircleMarker at 0x7feec21730f0>,\n",
       " <folium.vector_layers.CircleMarker at 0x7feec2173780>,\n",
       " <folium.vector_layers.CircleMarker at 0x7feec21733c8>,\n",
       " <folium.vector_layers.CircleMarker at 0x7feec2173400>,\n",
       " <folium.vector_layers.CircleMarker at 0x7feec21736a0>,\n",
       " <folium.vector_layers.CircleMarker at 0x7feec2173a90>,\n",
       " <folium.vector_layers.CircleMarker at 0x7feec2173cc0>,\n",
       " <folium.vector_layers.CircleMarker at 0x7feec2173cf8>,\n",
       " <folium.vector_layers.CircleMarker at 0x7feec2173da0>,\n",
       " <folium.vector_layers.CircleMarker at 0x7feec2173e48>,\n",
       " <folium.vector_layers.CircleMarker at 0x7feec2173ef0>,\n",
       " <folium.vector_layers.CircleMarker at 0x7feec2173f98>,\n",
       " <folium.vector_layers.CircleMarker at 0x7feec2173f28>,\n",
       " <folium.vector_layers.CircleMarker at 0x7feec2173e80>,\n",
       " <folium.vector_layers.CircleMarker at 0x7feec2173eb8>,\n",
       " <folium.vector_layers.CircleMarker at 0x7feec2173748>,\n",
       " <folium.vector_layers.CircleMarker at 0x7feec2173c88>,\n",
       " <folium.vector_layers.CircleMarker at 0x7feec2173128>,\n",
       " <folium.vector_layers.CircleMarker at 0x7feec2173470>,\n",
       " <folium.vector_layers.CircleMarker at 0x7feec2173860>,\n",
       " <folium.vector_layers.CircleMarker at 0x7feec223aba8>,\n",
       " <folium.vector_layers.CircleMarker at 0x7feec2173978>,\n",
       " <folium.vector_layers.CircleMarker at 0x7feec224a048>,\n",
       " <folium.vector_layers.CircleMarker at 0x7feec21737b8>,\n",
       " <folium.vector_layers.CircleMarker at 0x7feec21b1f60>,\n",
       " <folium.vector_layers.CircleMarker at 0x7feec21b1d68>,\n",
       " <folium.vector_layers.CircleMarker at 0x7feec21b1828>,\n",
       " <folium.vector_layers.CircleMarker at 0x7feec2186128>,\n",
       " <folium.vector_layers.CircleMarker at 0x7feec2186240>,\n",
       " <folium.vector_layers.CircleMarker at 0x7feec2186278>,\n",
       " <folium.vector_layers.CircleMarker at 0x7feec2186320>,\n",
       " <folium.vector_layers.CircleMarker at 0x7feec21863c8>,\n",
       " <folium.vector_layers.CircleMarker at 0x7feec2186470>,\n",
       " <folium.vector_layers.CircleMarker at 0x7feec2186518>,\n",
       " <folium.vector_layers.CircleMarker at 0x7feec21865c0>,\n",
       " <folium.vector_layers.CircleMarker at 0x7feec224acc0>,\n",
       " <folium.vector_layers.CircleMarker at 0x7feec21b1f98>,\n",
       " <folium.vector_layers.CircleMarker at 0x7feec2173d68>,\n",
       " <folium.vector_layers.CircleMarker at 0x7feec2173898>,\n",
       " <folium.vector_layers.CircleMarker at 0x7feec21730b8>,\n",
       " <folium.vector_layers.CircleMarker at 0x7feec2173b38>,\n",
       " <folium.vector_layers.CircleMarker at 0x7feec21731d0>,\n",
       " <folium.vector_layers.CircleMarker at 0x7feec2173d30>,\n",
       " <folium.vector_layers.CircleMarker at 0x7feec2173c50>,\n",
       " <folium.vector_layers.CircleMarker at 0x7feec21864e0>,\n",
       " <folium.vector_layers.CircleMarker at 0x7feec2186390>,\n",
       " <folium.vector_layers.CircleMarker at 0x7feec2186160>,\n",
       " <folium.vector_layers.CircleMarker at 0x7feec21861d0>,\n",
       " <folium.vector_layers.CircleMarker at 0x7feec2186668>,\n",
       " <folium.vector_layers.CircleMarker at 0x7feec2186550>,\n",
       " <folium.vector_layers.CircleMarker at 0x7feec2186780>,\n",
       " <folium.vector_layers.CircleMarker at 0x7feec21867b8>,\n",
       " <folium.vector_layers.CircleMarker at 0x7feec2186860>,\n",
       " <folium.vector_layers.CircleMarker at 0x7feec2186908>,\n",
       " <folium.vector_layers.CircleMarker at 0x7feec21869b0>,\n",
       " <folium.vector_layers.CircleMarker at 0x7feec2186a58>,\n",
       " <folium.vector_layers.CircleMarker at 0x7feec2186b00>,\n",
       " <folium.vector_layers.CircleMarker at 0x7feec2173c18>,\n",
       " <folium.vector_layers.CircleMarker at 0x7feec21b1b38>,\n",
       " <folium.vector_layers.CircleMarker at 0x7feec223acf8>,\n",
       " <folium.vector_layers.CircleMarker at 0x7feec2173240>,\n",
       " <folium.vector_layers.CircleMarker at 0x7feec2173f60>,\n",
       " <folium.vector_layers.CircleMarker at 0x7feec2173668>,\n",
       " <folium.vector_layers.CircleMarker at 0x7feec21867f0>,\n",
       " <folium.vector_layers.CircleMarker at 0x7feec2186710>,\n",
       " <folium.vector_layers.CircleMarker at 0x7feec2186048>,\n",
       " <folium.vector_layers.CircleMarker at 0x7feec21860f0>,\n",
       " <folium.vector_layers.CircleMarker at 0x7feec21864a8>,\n",
       " <folium.vector_layers.CircleMarker at 0x7feec2186358>,\n",
       " <folium.vector_layers.CircleMarker at 0x7feec2186438>,\n",
       " <folium.vector_layers.CircleMarker at 0x7feec2186ba8>,\n",
       " <folium.vector_layers.CircleMarker at 0x7feec2186a90>,\n",
       " <folium.vector_layers.CircleMarker at 0x7feec2186cc0>,\n",
       " <folium.vector_layers.CircleMarker at 0x7feec2186cf8>,\n",
       " <folium.vector_layers.CircleMarker at 0x7feec2186da0>,\n",
       " <folium.vector_layers.CircleMarker at 0x7feec2186e48>,\n",
       " <folium.vector_layers.CircleMarker at 0x7feec2186ef0>,\n",
       " <folium.vector_layers.CircleMarker at 0x7feec2186f98>,\n",
       " <folium.vector_layers.CircleMarker at 0x7feec21b1358>,\n",
       " <folium.vector_layers.CircleMarker at 0x7feec2186fd0>,\n",
       " <folium.vector_layers.CircleMarker at 0x7feec2186eb8>,\n",
       " <folium.vector_layers.CircleMarker at 0x7feec2186c18>,\n",
       " <folium.vector_layers.CircleMarker at 0x7feec2186c88>,\n",
       " <folium.vector_layers.CircleMarker at 0x7feec21862b0>,\n",
       " <folium.vector_layers.CircleMarker at 0x7feec2186080>,\n",
       " <folium.vector_layers.CircleMarker at 0x7feec2186828>,\n",
       " <folium.vector_layers.CircleMarker at 0x7feec2186748>,\n",
       " <folium.vector_layers.CircleMarker at 0x7feec21868d0>,\n",
       " <folium.vector_layers.CircleMarker at 0x7feec2186940>,\n",
       " <folium.vector_layers.CircleMarker at 0x7feec21865f8>,\n",
       " <folium.vector_layers.CircleMarker at 0x7feec2173ac8>,\n",
       " <folium.vector_layers.CircleMarker at 0x7feec2173be0>,\n",
       " <folium.vector_layers.CircleMarker at 0x7feec21735c0>,\n",
       " <folium.vector_layers.CircleMarker at 0x7feec211e0f0>,\n",
       " <folium.vector_layers.CircleMarker at 0x7feec211e1d0>,\n",
       " <folium.vector_layers.CircleMarker at 0x7feec211e278>,\n",
       " <folium.vector_layers.CircleMarker at 0x7feec211e320>,\n",
       " <folium.vector_layers.CircleMarker at 0x7feec211e3c8>,\n",
       " <folium.vector_layers.CircleMarker at 0x7feec211e470>,\n",
       " <folium.vector_layers.CircleMarker at 0x7feec211e518>,\n",
       " <folium.vector_layers.CircleMarker at 0x7feec2173518>,\n",
       " <folium.vector_layers.CircleMarker at 0x7feec2173320>,\n",
       " <folium.vector_layers.CircleMarker at 0x7feec2186a20>,\n",
       " <folium.vector_layers.CircleMarker at 0x7feec21869e8>,\n",
       " <folium.vector_layers.CircleMarker at 0x7feec2186208>,\n",
       " <folium.vector_layers.CircleMarker at 0x7feec2186e10>,\n",
       " <folium.vector_layers.CircleMarker at 0x7feec21b1c50>,\n",
       " <folium.vector_layers.CircleMarker at 0x7feec2186400>,\n",
       " <folium.vector_layers.CircleMarker at 0x7feec2186be0>,\n",
       " <folium.vector_layers.CircleMarker at 0x7feec2186d68>,\n",
       " <folium.vector_layers.CircleMarker at 0x7feec211e208>,\n",
       " <folium.vector_layers.CircleMarker at 0x7feec211e0b8>,\n",
       " <folium.vector_layers.CircleMarker at 0x7feec211e160>,\n",
       " <folium.vector_layers.CircleMarker at 0x7feec211e5c0>,\n",
       " <folium.vector_layers.CircleMarker at 0x7feec211e4a8>,\n",
       " <folium.vector_layers.CircleMarker at 0x7feec211e6d8>,\n",
       " <folium.vector_layers.CircleMarker at 0x7feec211e710>,\n",
       " <folium.vector_layers.CircleMarker at 0x7feec211e7b8>,\n",
       " <folium.vector_layers.CircleMarker at 0x7feec211e860>,\n",
       " <folium.vector_layers.CircleMarker at 0x7feec211e908>,\n",
       " <folium.vector_layers.CircleMarker at 0x7feec211e9b0>,\n",
       " <folium.vector_layers.CircleMarker at 0x7feec211ea58>,\n",
       " <folium.vector_layers.CircleMarker at 0x7feec2186198>,\n",
       " <folium.vector_layers.CircleMarker at 0x7feec2186588>,\n",
       " <folium.vector_layers.CircleMarker at 0x7feec2186b38>,\n",
       " <folium.vector_layers.CircleMarker at 0x7feec2173278>,\n",
       " <folium.vector_layers.CircleMarker at 0x7feec21860b8>,\n",
       " <folium.vector_layers.CircleMarker at 0x7feec2186b70>,\n",
       " <folium.vector_layers.CircleMarker at 0x7feec211e978>,\n",
       " <folium.vector_layers.CircleMarker at 0x7feec211e828>,\n",
       " <folium.vector_layers.CircleMarker at 0x7feec211e630>,\n",
       " <folium.vector_layers.CircleMarker at 0x7feec211e6a0>,\n",
       " <folium.vector_layers.CircleMarker at 0x7feec211e390>,\n",
       " <folium.vector_layers.CircleMarker at 0x7feec211e198>,\n",
       " <folium.vector_layers.CircleMarker at 0x7feec211e2b0>,\n",
       " <folium.vector_layers.CircleMarker at 0x7feec211eb00>,\n",
       " <folium.vector_layers.CircleMarker at 0x7feec211e9e8>,\n",
       " <folium.vector_layers.CircleMarker at 0x7feec211ec18>,\n",
       " <folium.vector_layers.CircleMarker at 0x7feec211ec50>,\n",
       " <folium.vector_layers.CircleMarker at 0x7feec211ecf8>,\n",
       " <folium.vector_layers.CircleMarker at 0x7feec211eda0>,\n",
       " <folium.vector_layers.CircleMarker at 0x7feec211ee48>,\n",
       " <folium.vector_layers.CircleMarker at 0x7feec211eef0>,\n",
       " <folium.vector_layers.CircleMarker at 0x7feec211ef98>,\n",
       " <folium.vector_layers.CircleMarker at 0x7feec21862e8>,\n",
       " <folium.vector_layers.CircleMarker at 0x7feec2186898>,\n",
       " <folium.vector_layers.CircleMarker at 0x7feec2186ac8>,\n",
       " <folium.vector_layers.CircleMarker at 0x7feec224a518>,\n",
       " <folium.vector_layers.CircleMarker at 0x7feec2186e80>,\n",
       " <folium.vector_layers.CircleMarker at 0x7feec2173940>,\n",
       " <folium.vector_layers.CircleMarker at 0x7feec2173550>,\n",
       " <folium.vector_layers.CircleMarker at 0x7feec21b1048>,\n",
       " <folium.vector_layers.CircleMarker at 0x7feec211edd8>,\n",
       " <folium.vector_layers.CircleMarker at 0x7feec211ee10>,\n",
       " <folium.vector_layers.CircleMarker at 0x7feec211ecc0>,\n",
       " <folium.vector_layers.CircleMarker at 0x7feec211e358>,\n",
       " <folium.vector_layers.CircleMarker at 0x7feec211eb38>,\n",
       " <folium.vector_layers.CircleMarker at 0x7feec211e240>,\n",
       " <folium.vector_layers.CircleMarker at 0x7feec211e438>,\n",
       " <folium.vector_layers.CircleMarker at 0x7feec211e748>,\n",
       " <folium.vector_layers.CircleMarker at 0x7feec211e780>,\n",
       " <folium.vector_layers.CircleMarker at 0x7feec211ea20>,\n",
       " <folium.vector_layers.CircleMarker at 0x7feec211e898>,\n",
       " <folium.vector_layers.CircleMarker at 0x7feec211eac8>,\n",
       " <folium.vector_layers.CircleMarker at 0x7feec2131048>,\n",
       " <folium.vector_layers.CircleMarker at 0x7feec2131160>,\n",
       " <folium.vector_layers.CircleMarker at 0x7feec21b1dd8>,\n",
       " <folium.vector_layers.CircleMarker at 0x7feec2173b70>,\n",
       " <folium.vector_layers.CircleMarker at 0x7feec2173fd0>,\n",
       " <folium.vector_layers.CircleMarker at 0x7feec2186dd8>,\n",
       " <folium.vector_layers.CircleMarker at 0x7feec21866a0>,\n",
       " <folium.vector_layers.CircleMarker at 0x7feec2186630>,\n",
       " <folium.vector_layers.CircleMarker at 0x7feec211e080>,\n",
       " <folium.vector_layers.CircleMarker at 0x7feec211e128>,\n",
       " <folium.vector_layers.CircleMarker at 0x7feec211e5f8>,\n",
       " <folium.vector_layers.CircleMarker at 0x7feec211eb70>,\n",
       " <folium.vector_layers.CircleMarker at 0x7feec211e2e8>,\n",
       " <folium.vector_layers.CircleMarker at 0x7feec211eba8>,\n",
       " <folium.vector_layers.CircleMarker at 0x7feec211ef60>,\n",
       " <folium.vector_layers.CircleMarker at 0x7feec211ed68>,\n",
       " <folium.vector_layers.CircleMarker at 0x7feec2131240>,\n",
       " <folium.vector_layers.CircleMarker at 0x7feec21312e8>,\n",
       " <folium.vector_layers.CircleMarker at 0x7feec2131198>,\n",
       " <folium.vector_layers.CircleMarker at 0x7feec21313c8>,\n",
       " <folium.vector_layers.CircleMarker at 0x7feec2131470>,\n",
       " <folium.vector_layers.CircleMarker at 0x7feec2131518>,\n",
       " <folium.vector_layers.CircleMarker at 0x7feec21315c0>,\n",
       " <folium.vector_layers.CircleMarker at 0x7feec2131668>,\n",
       " <folium.vector_layers.CircleMarker at 0x7feec211ed30>,\n",
       " <folium.vector_layers.CircleMarker at 0x7feec211ebe0>,\n",
       " <folium.vector_layers.CircleMarker at 0x7feec211e048>,\n",
       " <folium.vector_layers.CircleMarker at 0x7feec211e8d0>,\n",
       " <folium.vector_layers.CircleMarker at 0x7feec211ef28>,\n",
       " <folium.vector_layers.CircleMarker at 0x7feec211efd0>,\n",
       " <folium.vector_layers.CircleMarker at 0x7feec2173dd8>,\n",
       " <folium.vector_layers.CircleMarker at 0x7feec2186978>,\n",
       " <folium.vector_layers.CircleMarker at 0x7feec2186d30>,\n",
       " <folium.vector_layers.CircleMarker at 0x7feec2131588>,\n",
       " <folium.vector_layers.CircleMarker at 0x7feec2131438>,\n",
       " <folium.vector_layers.CircleMarker at 0x7feec2131208>,\n",
       " <folium.vector_layers.CircleMarker at 0x7feec2131278>,\n",
       " <folium.vector_layers.CircleMarker at 0x7feec2131710>,\n",
       " <folium.vector_layers.CircleMarker at 0x7feec21315f8>,\n",
       " <folium.vector_layers.CircleMarker at 0x7feec2131828>,\n",
       " <folium.vector_layers.CircleMarker at 0x7feec2131860>,\n",
       " <folium.vector_layers.CircleMarker at 0x7feec2131908>,\n",
       " <folium.vector_layers.CircleMarker at 0x7feec21319b0>,\n",
       " <folium.vector_layers.CircleMarker at 0x7feec2131a58>,\n",
       " <folium.vector_layers.CircleMarker at 0x7feec2131b00>,\n",
       " <folium.vector_layers.CircleMarker at 0x7feec2131ba8>,\n",
       " <folium.vector_layers.CircleMarker at 0x7feec21739e8>,\n",
       " <folium.vector_layers.CircleMarker at 0x7feec2186f60>,\n",
       " <folium.vector_layers.CircleMarker at 0x7feec211e668>,\n",
       " <folium.vector_layers.CircleMarker at 0x7feec211e400>,\n",
       " <folium.vector_layers.CircleMarker at 0x7feec211ec88>,\n",
       " <folium.vector_layers.CircleMarker at 0x7feec211e940>,\n",
       " <folium.vector_layers.CircleMarker at 0x7feec2131898>,\n",
       " <folium.vector_layers.CircleMarker at 0x7feec21317b8>,\n",
       " <folium.vector_layers.CircleMarker at 0x7feec21310f0>,\n",
       " <folium.vector_layers.CircleMarker at 0x7feec2131358>,\n",
       " <folium.vector_layers.CircleMarker at 0x7feec2131550>,\n",
       " <folium.vector_layers.CircleMarker at 0x7feec2131400>,\n",
       " <folium.vector_layers.CircleMarker at 0x7feec21314e0>,\n",
       " <folium.vector_layers.CircleMarker at 0x7feec2131c50>,\n",
       " <folium.vector_layers.CircleMarker at 0x7feec2131b38>,\n",
       " <folium.vector_layers.CircleMarker at 0x7feec2131d68>,\n",
       " <folium.vector_layers.CircleMarker at 0x7feec2131da0>,\n",
       " <folium.vector_layers.CircleMarker at 0x7feec2131e48>,\n",
       " <folium.vector_layers.CircleMarker at 0x7feec2131ef0>,\n",
       " <folium.vector_layers.CircleMarker at 0x7feec2131f98>,\n",
       " <folium.vector_layers.CircleMarker at 0x7feec2131f28>,\n",
       " <folium.vector_layers.CircleMarker at 0x7feec21440f0>,\n",
       " <folium.vector_layers.CircleMarker at 0x7feec2131b70>,\n",
       " <folium.vector_layers.CircleMarker at 0x7feec2131be0>,\n",
       " <folium.vector_layers.CircleMarker at 0x7feec21314a8>,\n",
       " <folium.vector_layers.CircleMarker at 0x7feec2131390>,\n",
       " <folium.vector_layers.CircleMarker at 0x7feec2131a90>,\n",
       " <folium.vector_layers.CircleMarker at 0x7feec2131080>,\n",
       " <folium.vector_layers.CircleMarker at 0x7feec21312b0>,\n",
       " <folium.vector_layers.CircleMarker at 0x7feec2131ac8>,\n",
       " <folium.vector_layers.CircleMarker at 0x7feec21316a0>,\n",
       " <folium.vector_layers.CircleMarker at 0x7feec21866d8>,\n",
       " <folium.vector_layers.CircleMarker at 0x7feec21b1b00>,\n",
       " <folium.vector_layers.CircleMarker at 0x7feec2131940>,\n",
       " <folium.vector_layers.CircleMarker at 0x7feec211e550>,\n",
       " <folium.vector_layers.CircleMarker at 0x7feec211e588>,\n",
       " <folium.vector_layers.CircleMarker at 0x7feec2144208>,\n",
       " <folium.vector_layers.CircleMarker at 0x7feec21442e8>,\n",
       " <folium.vector_layers.CircleMarker at 0x7feec2144320>,\n",
       " <folium.vector_layers.CircleMarker at 0x7feec21443c8>,\n",
       " <folium.vector_layers.CircleMarker at 0x7feec2144470>,\n",
       " <folium.vector_layers.CircleMarker at 0x7feec2144518>,\n",
       " <folium.vector_layers.CircleMarker at 0x7feec21445c0>,\n",
       " <folium.vector_layers.CircleMarker at 0x7feec2186f28>,\n",
       " <folium.vector_layers.CircleMarker at 0x7feec211e7f0>,\n",
       " <folium.vector_layers.CircleMarker at 0x7feec2131780>,\n",
       " <folium.vector_layers.CircleMarker at 0x7feec2131128>,\n",
       " <folium.vector_layers.CircleMarker at 0x7feec21318d0>,\n",
       " <folium.vector_layers.CircleMarker at 0x7feec2131eb8>,\n",
       " <folium.vector_layers.CircleMarker at 0x7feec2131d30>,\n",
       " <folium.vector_layers.CircleMarker at 0x7feec2131f60>,\n",
       " <folium.vector_layers.CircleMarker at 0x7feec2131e10>,\n",
       " <folium.vector_layers.CircleMarker at 0x7feec2144668>,\n",
       " <folium.vector_layers.CircleMarker at 0x7feec21444e0>,\n",
       " <folium.vector_layers.CircleMarker at 0x7feec2144390>,\n",
       " <folium.vector_layers.CircleMarker at 0x7feec21442b0>,\n",
       " <folium.vector_layers.CircleMarker at 0x7feec2144080>,\n",
       " <folium.vector_layers.CircleMarker at 0x7feec2144550>,\n",
       " <folium.vector_layers.CircleMarker at 0x7feec2144780>,\n",
       " <folium.vector_layers.CircleMarker at 0x7feec21447b8>,\n",
       " <folium.vector_layers.CircleMarker at 0x7feec2144860>,\n",
       " <folium.vector_layers.CircleMarker at 0x7feec2144908>,\n",
       " <folium.vector_layers.CircleMarker at 0x7feec21449b0>,\n",
       " <folium.vector_layers.CircleMarker at 0x7feec2144a58>,\n",
       " <folium.vector_layers.CircleMarker at 0x7feec2144b00>,\n",
       " <folium.vector_layers.CircleMarker at 0x7feec2131978>,\n",
       " <folium.vector_layers.CircleMarker at 0x7feec2131cf8>,\n",
       " <folium.vector_layers.CircleMarker at 0x7feec2186c50>,\n",
       " <folium.vector_layers.CircleMarker at 0x7feec211eeb8>,\n",
       " <folium.vector_layers.CircleMarker at 0x7feec2131fd0>,\n",
       " <folium.vector_layers.CircleMarker at 0x7feec2131320>,\n",
       " <folium.vector_layers.CircleMarker at 0x7feec2144a20>,\n",
       " <folium.vector_layers.CircleMarker at 0x7feec21448d0>,\n",
       " <folium.vector_layers.CircleMarker at 0x7feec2144160>,\n",
       " <folium.vector_layers.CircleMarker at 0x7feec2144748>,\n",
       " <folium.vector_layers.CircleMarker at 0x7feec2144128>,\n",
       " <folium.vector_layers.CircleMarker at 0x7feec2144048>,\n",
       " <folium.vector_layers.CircleMarker at 0x7feec2144588>,\n",
       " <folium.vector_layers.CircleMarker at 0x7feec2144ba8>,\n",
       " <folium.vector_layers.CircleMarker at 0x7feec2144a90>,\n",
       " <folium.vector_layers.CircleMarker at 0x7feec2144cc0>,\n",
       " <folium.vector_layers.CircleMarker at 0x7feec2144cf8>,\n",
       " <folium.vector_layers.CircleMarker at 0x7feec2144da0>,\n",
       " <folium.vector_layers.CircleMarker at 0x7feec2144e48>,\n",
       " <folium.vector_layers.CircleMarker at 0x7feec2144ef0>,\n",
       " <folium.vector_layers.CircleMarker at 0x7feec2144f98>,\n",
       " <folium.vector_layers.CircleMarker at 0x7feec2144f28>,\n",
       " <folium.vector_layers.CircleMarker at 0x7feec2144e80>,\n",
       " <folium.vector_layers.CircleMarker at 0x7feec2144eb8>,\n",
       " <folium.vector_layers.CircleMarker at 0x7feec2144c18>,\n",
       " <folium.vector_layers.CircleMarker at 0x7feec2144c88>,\n",
       " <folium.vector_layers.CircleMarker at 0x7feec21441d0>,\n",
       " <folium.vector_layers.CircleMarker at 0x7feec2144438>,\n",
       " <folium.vector_layers.CircleMarker at 0x7feec2144710>,\n",
       " <folium.vector_layers.CircleMarker at 0x7feec211ea90>,\n",
       " <folium.vector_layers.CircleMarker at 0x7feec2144828>,\n",
       " <folium.vector_layers.CircleMarker at 0x7feec2144978>,\n",
       " <folium.vector_layers.CircleMarker at 0x7feec21445f8>,\n",
       " <folium.vector_layers.CircleMarker at 0x7feec21319e8>,\n",
       " <folium.vector_layers.CircleMarker at 0x7feec2131630>,\n",
       " <folium.vector_layers.CircleMarker at 0x7feec2131c88>,\n",
       " <folium.vector_layers.CircleMarker at 0x7feec20dc0f0>,\n",
       " <folium.vector_layers.CircleMarker at 0x7feec20dc1d0>,\n",
       " <folium.vector_layers.CircleMarker at 0x7feec20dc278>,\n",
       " <folium.vector_layers.CircleMarker at 0x7feec20dc320>,\n",
       " <folium.vector_layers.CircleMarker at 0x7feec20dc3c8>,\n",
       " <folium.vector_layers.CircleMarker at 0x7feec20dc470>,\n",
       " <folium.vector_layers.CircleMarker at 0x7feec20dc518>,\n",
       " <folium.vector_layers.CircleMarker at 0x7feec20dc5c0>,\n",
       " <folium.vector_layers.CircleMarker at 0x7feec211e4e0>,\n",
       " <folium.vector_layers.CircleMarker at 0x7feec2131cc0>,\n",
       " <folium.vector_layers.CircleMarker at 0x7feec21446a0>,\n",
       " <folium.vector_layers.CircleMarker at 0x7feec2144278>,\n",
       " <folium.vector_layers.CircleMarker at 0x7feec2144358>,\n",
       " <folium.vector_layers.CircleMarker at 0x7feec2144b38>,\n",
       " <folium.vector_layers.CircleMarker at 0x7feec21446d8>,\n",
       " <folium.vector_layers.CircleMarker at 0x7feec2144d30>,\n",
       " <folium.vector_layers.CircleMarker at 0x7feec2144c50>,\n",
       " <folium.vector_layers.CircleMarker at 0x7feec20dc4e0>,\n",
       " <folium.vector_layers.CircleMarker at 0x7feec20dc390>,\n",
       " <folium.vector_layers.CircleMarker at 0x7feec20dc0b8>,\n",
       " <folium.vector_layers.CircleMarker at 0x7feec20dc160>,\n",
       " <folium.vector_layers.CircleMarker at 0x7feec20dc668>,\n",
       " <folium.vector_layers.CircleMarker at 0x7feec20dc550>,\n",
       " <folium.vector_layers.CircleMarker at 0x7feec20dc780>,\n",
       " <folium.vector_layers.CircleMarker at 0x7feec20dc7b8>,\n",
       " <folium.vector_layers.CircleMarker at 0x7feec20dc860>,\n",
       " <folium.vector_layers.CircleMarker at 0x7feec20dc908>,\n",
       " <folium.vector_layers.CircleMarker at 0x7feec20dc9b0>,\n",
       " <folium.vector_layers.CircleMarker at 0x7feec20dca58>,\n",
       " <folium.vector_layers.CircleMarker at 0x7feec20dcb00>,\n",
       " <folium.vector_layers.CircleMarker at 0x7feec2144898>,\n",
       " <folium.vector_layers.CircleMarker at 0x7feec21449e8>,\n",
       " <folium.vector_layers.CircleMarker at 0x7feec21447f0>,\n",
       " <folium.vector_layers.CircleMarker at 0x7feec2131dd8>,\n",
       " <folium.vector_layers.CircleMarker at 0x7feec2131748>,\n",
       " <folium.vector_layers.CircleMarker at 0x7feec21440b8>,\n",
       " <folium.vector_layers.CircleMarker at 0x7feec20dc7f0>,\n",
       " <folium.vector_layers.CircleMarker at 0x7feec20dc710>,\n",
       " <folium.vector_layers.CircleMarker at 0x7feec20dc048>,\n",
       " <folium.vector_layers.CircleMarker at 0x7feec20dc240>,\n",
       " <folium.vector_layers.CircleMarker at 0x7feec20dc4a8>,\n",
       " <folium.vector_layers.CircleMarker at 0x7feec20dc358>,\n",
       " <folium.vector_layers.CircleMarker at 0x7feec20dc438>,\n",
       " <folium.vector_layers.CircleMarker at 0x7feec20dcba8>,\n",
       " <folium.vector_layers.CircleMarker at 0x7feec20dca90>,\n",
       " <folium.vector_layers.CircleMarker at 0x7feec20dccc0>,\n",
       " <folium.vector_layers.CircleMarker at 0x7feec20dccf8>,\n",
       " <folium.vector_layers.CircleMarker at 0x7feec20dcda0>,\n",
       " <folium.vector_layers.CircleMarker at 0x7feec20dce48>,\n",
       " <folium.vector_layers.CircleMarker at 0x7feec20dcef0>,\n",
       " <folium.vector_layers.CircleMarker at 0x7feec20dcf98>,\n",
       " <folium.vector_layers.CircleMarker at 0x7feec20dcf28>,\n",
       " <folium.vector_layers.CircleMarker at 0x7feec21317f0>,\n",
       " <folium.vector_layers.CircleMarker at 0x7feec2144d68>,\n",
       " <folium.vector_layers.CircleMarker at 0x7feec2144dd8>,\n",
       " <folium.vector_layers.CircleMarker at 0x7feec2144f60>,\n",
       " <folium.vector_layers.CircleMarker at 0x7feec20dcd30>,\n",
       " <folium.vector_layers.CircleMarker at 0x7feec20dcc50>,\n",
       " <folium.vector_layers.CircleMarker at 0x7feec20dc400>,\n",
       " <folium.vector_layers.CircleMarker at 0x7feec20dc2e8>,\n",
       " <folium.vector_layers.CircleMarker at 0x7feec20dc9e8>,\n",
       " <folium.vector_layers.CircleMarker at 0x7feec20dc080>,\n",
       " <folium.vector_layers.CircleMarker at 0x7feec20dc128>,\n",
       " <folium.vector_layers.CircleMarker at 0x7feec20dca20>,\n",
       " <folium.vector_layers.CircleMarker at 0x7feec20dc5f8>,\n",
       " <folium.vector_layers.CircleMarker at 0x7feec20dcb70>,\n",
       " <folium.vector_layers.CircleMarker at 0x7feec20dc6d8>,\n",
       " <folium.vector_layers.CircleMarker at 0x7feec20f00f0>,\n",
       " <folium.vector_layers.CircleMarker at 0x7feec20f0208>,\n",
       " <folium.vector_layers.CircleMarker at 0x7feec20f02b0>,\n",
       " <folium.vector_layers.CircleMarker at 0x7feec20f0358>,\n",
       " <folium.vector_layers.CircleMarker at 0x7feec20f0400>,\n",
       " <folium.vector_layers.CircleMarker at 0x7feec20f04a8>,\n",
       " <folium.vector_layers.CircleMarker at 0x7feec2144be0>,\n",
       " <folium.vector_layers.CircleMarker at 0x7feec2131a20>,\n",
       " <folium.vector_layers.CircleMarker at 0x7feec2144240>,\n",
       " <folium.vector_layers.CircleMarker at 0x7feec20dc940>,\n",
       " <folium.vector_layers.CircleMarker at 0x7feec20dcbe0>,\n",
       " <folium.vector_layers.CircleMarker at 0x7feec20dc208>,\n",
       " <folium.vector_layers.CircleMarker at 0x7feec20dceb8>,\n",
       " <folium.vector_layers.CircleMarker at 0x7feec20dcc18>,\n",
       " <folium.vector_layers.CircleMarker at 0x7feec20dcdd8>,\n",
       " <folium.vector_layers.CircleMarker at 0x7feec20dce10>,\n",
       " <folium.vector_layers.CircleMarker at 0x7feec20f0550>,\n",
       " <folium.vector_layers.CircleMarker at 0x7feec20f03c8>,\n",
       " <folium.vector_layers.CircleMarker at 0x7feec20f0278>,\n",
       " <folium.vector_layers.CircleMarker at 0x7feec20f0080>,\n",
       " <folium.vector_layers.CircleMarker at 0x7feec20f0438>,\n",
       " <folium.vector_layers.CircleMarker at 0x7feec20f0668>,\n",
       " <folium.vector_layers.CircleMarker at 0x7feec20f06a0>,\n",
       " <folium.vector_layers.CircleMarker at 0x7feec20f0748>,\n",
       " <folium.vector_layers.CircleMarker at 0x7feec20f07f0>,\n",
       " <folium.vector_layers.CircleMarker at 0x7feec20f0898>,\n",
       " <folium.vector_layers.CircleMarker at 0x7feec20f0940>,\n",
       " <folium.vector_layers.CircleMarker at 0x7feec20f09e8>,\n",
       " <folium.vector_layers.CircleMarker at 0x7feec20dc198>,\n",
       " <folium.vector_layers.CircleMarker at 0x7feec20dcb38>,\n",
       " <folium.vector_layers.CircleMarker at 0x7feec20dc978>,\n",
       " <folium.vector_layers.CircleMarker at 0x7feec20dc6a0>,\n",
       " <folium.vector_layers.CircleMarker at 0x7feec20dc630>,\n",
       " <folium.vector_layers.CircleMarker at 0x7feec20dc588>,\n",
       " <folium.vector_layers.CircleMarker at 0x7feec21b1c88>,\n",
       " <folium.vector_layers.CircleMarker at 0x7feec2144b70>,\n",
       " <folium.vector_layers.CircleMarker at 0x7feec2144e10>,\n",
       " <folium.vector_layers.CircleMarker at 0x7feec2144940>,\n",
       " <folium.vector_layers.CircleMarker at 0x7feec21311d0>,\n",
       " <folium.vector_layers.CircleMarker at 0x7feec20f0828>,\n",
       " <folium.vector_layers.CircleMarker at 0x7feec20f0860>,\n",
       " <folium.vector_layers.CircleMarker at 0x7feec20f0710>,\n",
       " <folium.vector_layers.CircleMarker at 0x7feec20f01d0>,\n",
       " <folium.vector_layers.CircleMarker at 0x7feec20f0588>,\n",
       " <folium.vector_layers.CircleMarker at 0x7feec20f00b8>,\n",
       " <folium.vector_layers.CircleMarker at 0x7feec20f05c0>,\n",
       " <folium.vector_layers.CircleMarker at 0x7feec20f08d0>,\n",
       " <folium.vector_layers.CircleMarker at 0x7feec20f0ac8>,\n",
       " <folium.vector_layers.CircleMarker at 0x7feec20f0b70>,\n",
       " <folium.vector_layers.CircleMarker at 0x7feec20f02e8>,\n",
       " <folium.vector_layers.CircleMarker at 0x7feec2131e80>,\n",
       " <folium.vector_layers.CircleMarker at 0x7feec21316d8>,\n",
       " <folium.vector_layers.CircleMarker at 0x7feec2173e10>,\n",
       " <folium.vector_layers.CircleMarker at 0x7feec2144ac8>,\n",
       " <folium.vector_layers.CircleMarker at 0x7feec20dce80>,\n",
       " <folium.vector_layers.CircleMarker at 0x7feec20dc748>,\n",
       " <folium.vector_layers.CircleMarker at 0x7feec20dcc88>,\n",
       " <folium.vector_layers.CircleMarker at 0x7feec20dcfd0>,\n",
       " <folium.vector_layers.CircleMarker at 0x7feec20f0390>,\n",
       " <folium.vector_layers.CircleMarker at 0x7feec20f0240>,\n",
       " <folium.vector_layers.CircleMarker at 0x7feec20f0470>,\n",
       " <folium.vector_layers.CircleMarker at 0x7feec20f04e0>,\n",
       " <folium.vector_layers.CircleMarker at 0x7feec20f0128>,\n",
       " <folium.vector_layers.CircleMarker at 0x7feec20f0908>,\n",
       " <folium.vector_layers.CircleMarker at 0x7feec20f0ba8>,\n",
       " <folium.vector_layers.CircleMarker at 0x7feec20f0d68>,\n",
       " <folium.vector_layers.CircleMarker at 0x7feec20f0da0>,\n",
       " <folium.vector_layers.CircleMarker at 0x7feec20f0e48>,\n",
       " <folium.vector_layers.CircleMarker at 0x7feec20f0ef0>,\n",
       " <folium.vector_layers.CircleMarker at 0x7feec20f0f98>,\n",
       " <folium.vector_layers.CircleMarker at 0x7feec20f0f28>,\n",
       " <folium.vector_layers.CircleMarker at 0x7feec2103080>,\n",
       " <folium.vector_layers.CircleMarker at 0x7feec20f0cc0>,\n",
       " <folium.vector_layers.CircleMarker at 0x7feec20f0be0>,\n",
       " <folium.vector_layers.CircleMarker at 0x7feec20f0780>,\n",
       " <folium.vector_layers.CircleMarker at 0x7feec20f0160>,\n",
       " <folium.vector_layers.CircleMarker at 0x7feec20f07b8>,\n",
       " <folium.vector_layers.CircleMarker at 0x7feec20f0b38>,\n",
       " <folium.vector_layers.CircleMarker at 0x7feec20f0630>,\n",
       " <folium.vector_layers.CircleMarker at 0x7feec20f0a90>,\n",
       " <folium.vector_layers.CircleMarker at 0x7feec20f0b00>,\n",
       " <folium.vector_layers.CircleMarker at 0x7feec211ee80>,\n",
       " <folium.vector_layers.CircleMarker at 0x7feec2144400>,\n",
       " <folium.vector_layers.CircleMarker at 0x7feec2144fd0>,\n",
       " <folium.vector_layers.CircleMarker at 0x7feec2131c18>,\n",
       " <folium.vector_layers.CircleMarker at 0x7feec20dc898>,\n",
       " <folium.vector_layers.CircleMarker at 0x7feec2103198>,\n",
       " <folium.vector_layers.CircleMarker at 0x7feec21032e8>,\n",
       " <folium.vector_layers.CircleMarker at 0x7feec2103320>,\n",
       " <folium.vector_layers.CircleMarker at 0x7feec21033c8>,\n",
       " <folium.vector_layers.CircleMarker at 0x7feec2103470>,\n",
       " <folium.vector_layers.CircleMarker at 0x7feec2103518>,\n",
       " <folium.vector_layers.CircleMarker at 0x7feec21035c0>,\n",
       " <folium.vector_layers.CircleMarker at 0x7feec2103668>,\n",
       " <folium.vector_layers.CircleMarker at 0x7feec20dc8d0>,\n",
       " <folium.vector_layers.CircleMarker at 0x7feec20dc2b0>,\n",
       " <folium.vector_layers.CircleMarker at 0x7feec2144198>,\n",
       " <folium.vector_layers.CircleMarker at 0x7feec20f0518>,\n",
       " <folium.vector_layers.CircleMarker at 0x7feec20f05f8>,\n",
       " <folium.vector_layers.CircleMarker at 0x7feec20f0048>,\n",
       " <folium.vector_layers.CircleMarker at 0x7feec20f0e10>,\n",
       " <folium.vector_layers.CircleMarker at 0x7feec20f0e80>,\n",
       " <folium.vector_layers.CircleMarker at 0x7feec20f0dd8>,\n",
       " <folium.vector_layers.CircleMarker at 0x7feec2103358>,\n",
       " <folium.vector_layers.CircleMarker at 0x7feec2103208>,\n",
       " <folium.vector_layers.CircleMarker at 0x7feec2103240>,\n",
       " <folium.vector_layers.CircleMarker at 0x7feec2103160>,\n",
       " <folium.vector_layers.CircleMarker at 0x7feec2103710>,\n",
       " <folium.vector_layers.CircleMarker at 0x7feec21035f8>,\n",
       " <folium.vector_layers.CircleMarker at 0x7feec2103828>,\n",
       " <folium.vector_layers.CircleMarker at 0x7feec2103860>,\n",
       " <folium.vector_layers.CircleMarker at 0x7feec2103908>,\n",
       " <folium.vector_layers.CircleMarker at 0x7feec21039b0>,\n",
       " <folium.vector_layers.CircleMarker at 0x7feec2103a58>,\n",
       " <folium.vector_layers.CircleMarker at 0x7feec2103b00>,\n",
       " <folium.vector_layers.CircleMarker at 0x7feec2103ba8>,\n",
       " <folium.vector_layers.CircleMarker at 0x7feec21444a8>,\n",
       " <folium.vector_layers.CircleMarker at 0x7feec20dc828>,\n",
       " <folium.vector_layers.CircleMarker at 0x7feec20f06d8>,\n",
       " <folium.vector_layers.CircleMarker at 0x7feec20f09b0>,\n",
       " <folium.vector_layers.CircleMarker at 0x7feec20f0eb8>,\n",
       " <folium.vector_layers.CircleMarker at 0x7feec21039e8>,\n",
       " <folium.vector_layers.CircleMarker at 0x7feec2103a20>,\n",
       " <folium.vector_layers.CircleMarker at 0x7feec21038d0>,\n",
       " <folium.vector_layers.CircleMarker at 0x7feec2103048>,\n",
       " <folium.vector_layers.CircleMarker at 0x7feec2103748>,\n",
       " <folium.vector_layers.CircleMarker at 0x7feec21034e0>,\n",
       " <folium.vector_layers.CircleMarker at 0x7feec21031d0>,\n",
       " <folium.vector_layers.CircleMarker at 0x7feec2103400>,\n",
       " <folium.vector_layers.CircleMarker at 0x7feec2103c50>,\n",
       " <folium.vector_layers.CircleMarker at 0x7feec2103b38>,\n",
       " <folium.vector_layers.CircleMarker at 0x7feec2103d68>,\n",
       " <folium.vector_layers.CircleMarker at 0x7feec2103da0>,\n",
       " <folium.vector_layers.CircleMarker at 0x7feec2103e48>,\n",
       " <folium.vector_layers.CircleMarker at 0x7feec2103ef0>,\n",
       " <folium.vector_layers.CircleMarker at 0x7feec2103f98>,\n",
       " <folium.vector_layers.CircleMarker at 0x7feec2103f28>,\n",
       " <folium.vector_layers.CircleMarker at 0x7feec21140f0>,\n",
       " <folium.vector_layers.CircleMarker at 0x7feec2103940>,\n",
       " <folium.vector_layers.CircleMarker at 0x7feec2103be0>,\n",
       " <folium.vector_layers.CircleMarker at 0x7feec2103630>,\n",
       " <folium.vector_layers.CircleMarker at 0x7feec2103438>,\n",
       " <folium.vector_layers.CircleMarker at 0x7feec2103a90>,\n",
       " <folium.vector_layers.CircleMarker at 0x7feec21037f0>,\n",
       " <folium.vector_layers.CircleMarker at 0x7feec2103550>,\n",
       " <folium.vector_layers.CircleMarker at 0x7feec20dcd68>,\n",
       " <folium.vector_layers.CircleMarker at 0x7feec21037b8>,\n",
       " <folium.vector_layers.CircleMarker at 0x7feec2103ac8>,\n",
       " <folium.vector_layers.CircleMarker at 0x7feec2103978>,\n",
       " <folium.vector_layers.CircleMarker at 0x7feec20f0c88>,\n",
       " <folium.vector_layers.CircleMarker at 0x7feec20f0c50>,\n",
       " <folium.vector_layers.CircleMarker at 0x7feec20f0d30>,\n",
       " <folium.vector_layers.CircleMarker at 0x7feec2114208>,\n",
       " <folium.vector_layers.CircleMarker at 0x7feec21142e8>,\n",
       " <folium.vector_layers.CircleMarker at 0x7feec2114320>,\n",
       " <folium.vector_layers.CircleMarker at 0x7feec21143c8>,\n",
       " <folium.vector_layers.CircleMarker at 0x7feec2114470>,\n",
       " <folium.vector_layers.CircleMarker at 0x7feec2114518>,\n",
       " <folium.vector_layers.CircleMarker at 0x7feec21145c0>,\n",
       " <folium.vector_layers.CircleMarker at 0x7feec2114668>,\n",
       " <folium.vector_layers.CircleMarker at 0x7feec2144630>,\n",
       " <folium.vector_layers.CircleMarker at 0x7feec20f0198>,\n",
       " <folium.vector_layers.CircleMarker at 0x7feec2103128>,\n",
       " <folium.vector_layers.CircleMarker at 0x7feec21032b0>,\n",
       " <folium.vector_layers.CircleMarker at 0x7feec21034a8>,\n",
       " <folium.vector_layers.CircleMarker at 0x7feec2103278>,\n",
       " <folium.vector_layers.CircleMarker at 0x7feec2103e10>,\n",
       " <folium.vector_layers.CircleMarker at 0x7feec2103e80>,\n",
       " <folium.vector_layers.CircleMarker at 0x7feec2103cf8>,\n",
       " <folium.vector_layers.CircleMarker at 0x7feec2114588>,\n",
       " <folium.vector_layers.CircleMarker at 0x7feec2114438>,\n",
       " <folium.vector_layers.CircleMarker at 0x7feec2114240>,\n",
       " <folium.vector_layers.CircleMarker at 0x7feec2114278>,\n",
       " <folium.vector_layers.CircleMarker at 0x7feec2114160>,\n",
       " <folium.vector_layers.CircleMarker at 0x7feec2114780>,\n",
       " <folium.vector_layers.CircleMarker at 0x7feec21147b8>,\n",
       " <folium.vector_layers.CircleMarker at 0x7feec21146a0>,\n",
       " <folium.vector_layers.CircleMarker at 0x7feec2114898>,\n",
       " <folium.vector_layers.CircleMarker at 0x7feec2114940>,\n",
       " <folium.vector_layers.CircleMarker at 0x7feec21149e8>,\n",
       " <folium.vector_layers.CircleMarker at 0x7feec2114a90>,\n",
       " <folium.vector_layers.CircleMarker at 0x7feec2103b70>,\n",
       " <folium.vector_layers.CircleMarker at 0x7feec20dcf60>,\n",
       " <folium.vector_layers.CircleMarker at 0x7feec20f0f60>,\n",
       " <folium.vector_layers.CircleMarker at 0x7feec2103eb8>,\n",
       " <folium.vector_layers.CircleMarker at 0x7feec21036a0>,\n",
       " <folium.vector_layers.CircleMarker at 0x7feec2103fd0>,\n",
       " <folium.vector_layers.CircleMarker at 0x7feec2114b38>,\n",
       " <folium.vector_layers.CircleMarker at 0x7feec21149b0>,\n",
       " <folium.vector_layers.CircleMarker at 0x7feec2114860>,\n",
       " <folium.vector_layers.CircleMarker at 0x7feec21141d0>,\n",
       " <folium.vector_layers.CircleMarker at 0x7feec2114710>,\n",
       " <folium.vector_layers.CircleMarker at 0x7feec2114358>,\n",
       " <folium.vector_layers.CircleMarker at 0x7feec2114390>,\n",
       " <folium.vector_layers.CircleMarker at 0x7feec2114630>,\n",
       " <folium.vector_layers.CircleMarker at 0x7feec2114a20>,\n",
       " <folium.vector_layers.CircleMarker at 0x7feec2114c50>,\n",
       " <folium.vector_layers.CircleMarker at 0x7feec2114c88>,\n",
       " <folium.vector_layers.CircleMarker at 0x7feec2114d30>,\n",
       " <folium.vector_layers.CircleMarker at 0x7feec2114dd8>,\n",
       " <folium.vector_layers.CircleMarker at 0x7feec2114e80>,\n",
       " <folium.vector_layers.CircleMarker at 0x7feec2114f28>,\n",
       " <folium.vector_layers.CircleMarker at 0x7feec2114fd0>,\n",
       " <folium.vector_layers.CircleMarker at 0x7feec20f0a20>,\n",
       " <folium.vector_layers.CircleMarker at 0x7feec2103588>,\n",
       " <folium.vector_layers.CircleMarker at 0x7feec2103f60>,\n",
       " <folium.vector_layers.CircleMarker at 0x7feec2103780>,\n",
       " <folium.vector_layers.CircleMarker at 0x7feec2114ef0>,\n",
       " <folium.vector_layers.CircleMarker at 0x7feec2114da0>,\n",
       " <folium.vector_layers.CircleMarker at 0x7feec21146d8>,\n",
       " <folium.vector_layers.CircleMarker at 0x7feec2114c18>,\n",
       " <folium.vector_layers.CircleMarker at 0x7feec21140b8>,\n",
       " <folium.vector_layers.CircleMarker at 0x7feec2114400>,\n",
       " <folium.vector_layers.CircleMarker at 0x7feec21147f0>,\n",
       " <folium.vector_layers.CircleMarker at 0x7feec2114828>,\n",
       " <folium.vector_layers.CircleMarker at 0x7feec2114a58>,\n",
       " <folium.vector_layers.CircleMarker at 0x7feec2114eb8>,\n",
       " <folium.vector_layers.CircleMarker at 0x7feec2114748>,\n",
       " <folium.vector_layers.CircleMarker at 0x7feec20ad128>,\n",
       " <folium.vector_layers.CircleMarker at 0x7feec20ad208>,\n",
       " <folium.vector_layers.CircleMarker at 0x7feec20ad2b0>,\n",
       " <folium.vector_layers.CircleMarker at 0x7feec20ad358>,\n",
       " <folium.vector_layers.CircleMarker at 0x7feec20ad400>,\n",
       " <folium.vector_layers.CircleMarker at 0x7feec20ad4a8>,\n",
       " <folium.vector_layers.CircleMarker at 0x7feec20ad550>,\n",
       " <folium.vector_layers.CircleMarker at 0x7feec2114e10>,\n",
       " <folium.vector_layers.CircleMarker at 0x7feec2114908>,\n",
       " <folium.vector_layers.CircleMarker at 0x7feec21144a8>,\n",
       " <folium.vector_layers.CircleMarker at 0x7feec2114b70>,\n",
       " <folium.vector_layers.CircleMarker at 0x7feec2114d68>,\n",
       " <folium.vector_layers.CircleMarker at 0x7feec2114e48>,\n",
       " <folium.vector_layers.CircleMarker at 0x7feec2114cf8>,\n",
       " <folium.vector_layers.CircleMarker at 0x7feec2103c88>,\n",
       " <folium.vector_layers.CircleMarker at 0x7feec2103390>,\n",
       " <folium.vector_layers.CircleMarker at 0x7feec20ad390>,\n",
       " <folium.vector_layers.CircleMarker at 0x7feec20ad3c8>,\n",
       " <folium.vector_layers.CircleMarker at 0x7feec20ad278>,\n",
       " <folium.vector_layers.CircleMarker at 0x7feec20ad0b8>,\n",
       " <folium.vector_layers.CircleMarker at 0x7feec20ad5f8>,\n",
       " <folium.vector_layers.CircleMarker at 0x7feec20ad4e0>,\n",
       " <folium.vector_layers.CircleMarker at 0x7feec20ad710>,\n",
       " <folium.vector_layers.CircleMarker at 0x7feec20ad748>,\n",
       " <folium.vector_layers.CircleMarker at 0x7feec20ad7f0>,\n",
       " <folium.vector_layers.CircleMarker at 0x7feec20ad898>,\n",
       " <folium.vector_layers.CircleMarker at 0x7feec20ad940>,\n",
       " <folium.vector_layers.CircleMarker at 0x7feec20ad9e8>,\n",
       " <folium.vector_layers.CircleMarker at 0x7feec20ada90>,\n",
       " <folium.vector_layers.CircleMarker at 0x7feec2103dd8>,\n",
       " <folium.vector_layers.CircleMarker at 0x7feec2103d30>,\n",
       " <folium.vector_layers.CircleMarker at 0x7feec21145f8>,\n",
       " <folium.vector_layers.CircleMarker at 0x7feec2114be0>,\n",
       " <folium.vector_layers.CircleMarker at 0x7feec2114550>,\n",
       " <folium.vector_layers.CircleMarker at 0x7feec21142b0>,\n",
       " <folium.vector_layers.CircleMarker at 0x7feec20ad9b0>,\n",
       " <folium.vector_layers.CircleMarker at 0x7feec20ad860>,\n",
       " <folium.vector_layers.CircleMarker at 0x7feec20ad668>,\n",
       " <folium.vector_layers.CircleMarker at 0x7feec20ad6d8>,\n",
       " <folium.vector_layers.CircleMarker at 0x7feec20ad160>,\n",
       " <folium.vector_layers.CircleMarker at 0x7feec20ad198>,\n",
       " <folium.vector_layers.CircleMarker at 0x7feec20ad470>,\n",
       " <folium.vector_layers.CircleMarker at 0x7feec20adb38>,\n",
       " <folium.vector_layers.CircleMarker at 0x7feec20ada20>,\n",
       " <folium.vector_layers.CircleMarker at 0x7feec20adc50>,\n",
       " <folium.vector_layers.CircleMarker at 0x7feec20adc88>,\n",
       " <folium.vector_layers.CircleMarker at 0x7feec20add30>,\n",
       " <folium.vector_layers.CircleMarker at 0x7feec20addd8>,\n",
       " <folium.vector_layers.CircleMarker at 0x7feec20ade80>,\n",
       " <folium.vector_layers.CircleMarker at 0x7feec20adf28>,\n",
       " <folium.vector_layers.CircleMarker at 0x7feec20adfd0>,\n",
       " <folium.vector_layers.CircleMarker at 0x7feec2114ac8>,\n",
       " <folium.vector_layers.CircleMarker at 0x7feec21030f0>,\n",
       " <folium.vector_layers.CircleMarker at 0x7feec2114080>,\n",
       " <folium.vector_layers.CircleMarker at 0x7feec2114cc0>,\n",
       " <folium.vector_layers.CircleMarker at 0x7feec20adcc0>,\n",
       " <folium.vector_layers.CircleMarker at 0x7feec20adbe0>,\n",
       " <folium.vector_layers.CircleMarker at 0x7feec20ad2e8>,\n",
       " <folium.vector_layers.CircleMarker at 0x7feec20ad0f0>,\n",
       " <folium.vector_layers.CircleMarker at 0x7feec20ad978>,\n",
       " <folium.vector_layers.CircleMarker at 0x7feec20ad080>,\n",
       " <folium.vector_layers.CircleMarker at 0x7feec20ad630>,\n",
       " <folium.vector_layers.CircleMarker at 0x7feec20ad828>,\n",
       " <folium.vector_layers.CircleMarker at 0x7feec20ad908>,\n",
       " <folium.vector_layers.CircleMarker at 0x7feec20adeb8>,\n",
       " <folium.vector_layers.CircleMarker at 0x7feec20ad7b8>,\n",
       " <folium.vector_layers.CircleMarker at 0x7feec20c0128>,\n",
       " <folium.vector_layers.CircleMarker at 0x7feec20c0208>,\n",
       " <folium.vector_layers.CircleMarker at 0x7feec20c02b0>,\n",
       " <folium.vector_layers.CircleMarker at 0x7feec20c0358>,\n",
       " <folium.vector_layers.CircleMarker at 0x7feec20c0400>,\n",
       " <folium.vector_layers.CircleMarker at 0x7feec20c04a8>,\n",
       " <folium.vector_layers.CircleMarker at 0x7feec20adf98>,\n",
       " <folium.vector_layers.CircleMarker at 0x7feec20adf60>,\n",
       " <folium.vector_layers.CircleMarker at 0x7feec20ad6a0>,\n",
       " <folium.vector_layers.CircleMarker at 0x7feec20adcf8>,\n",
       " <folium.vector_layers.CircleMarker at 0x7feec20adc18>,\n",
       " <folium.vector_layers.CircleMarker at 0x7feec20adda0>,\n",
       " <folium.vector_layers.CircleMarker at 0x7feec20ade10>,\n",
       " <folium.vector_layers.CircleMarker at 0x7feec20ad5c0>,\n",
       " <folium.vector_layers.CircleMarker at 0x7feec20adac8>,\n",
       " <folium.vector_layers.CircleMarker at 0x7feec2114f60>,\n",
       " <folium.vector_layers.CircleMarker at 0x7feec21148d0>,\n",
       " <folium.vector_layers.CircleMarker at 0x7feec2103898>,\n",
       " <folium.vector_layers.CircleMarker at 0x7feec21036d8>,\n",
       " <folium.vector_layers.CircleMarker at 0x7feec2114978>,\n",
       " <folium.vector_layers.CircleMarker at 0x7feec20f0978>,\n",
       " <folium.vector_layers.CircleMarker at 0x7feec20f0c18>,\n",
       " <folium.vector_layers.CircleMarker at 0x7feec20c0240>,\n",
       " <folium.vector_layers.CircleMarker at 0x7feec20c00f0>,\n",
       " <folium.vector_layers.CircleMarker at 0x7feec20c0198>,\n",
       " <folium.vector_layers.CircleMarker at 0x7feec20c0588>,\n",
       " <folium.vector_layers.CircleMarker at 0x7feec20c0630>,\n",
       " <folium.vector_layers.CircleMarker at 0x7feec20c0080>,\n",
       " <folium.vector_layers.CircleMarker at 0x7feec20c0710>,\n",
       " <folium.vector_layers.CircleMarker at 0x7feec2a89e10>,\n",
       " <folium.vector_layers.CircleMarker at 0x7feec2a90588>,\n",
       " <folium.vector_layers.CircleMarker at 0x7feec2226320>,\n",
       " <folium.vector_layers.CircleMarker at 0x7feec224f358>,\n",
       " <folium.vector_layers.CircleMarker at 0x7feec224ff60>,\n",
       " <folium.vector_layers.CircleMarker at 0x7feec224fd30>,\n",
       " <folium.vector_layers.CircleMarker at 0x7feef02b1748>,\n",
       " <folium.vector_layers.CircleMarker at 0x7feec224fb00>,\n",
       " <folium.vector_layers.CircleMarker at 0x7feec224f2e8>,\n",
       " <folium.vector_layers.CircleMarker at 0x7feef017ea90>,\n",
       " <folium.vector_layers.CircleMarker at 0x7feef017e908>,\n",
       " <folium.vector_layers.CircleMarker at 0x7feec21030b8>,\n",
       " <folium.vector_layers.CircleMarker at 0x7feec224f2b0>,\n",
       " <folium.vector_layers.CircleMarker at 0x7feec2114f98>,\n",
       " <folium.vector_layers.CircleMarker at 0x7feec2114128>,\n",
       " <folium.vector_layers.CircleMarker at 0x7feec2114198>,\n",
       " <folium.vector_layers.CircleMarker at 0x7feec20ad438>,\n",
       " <folium.vector_layers.CircleMarker at 0x7feec21310b8>,\n",
       " <folium.vector_layers.CircleMarker at 0x7feef01308d0>,\n",
       " <folium.vector_layers.CircleMarker at 0x7feef017ecf8>,\n",
       " <folium.vector_layers.CircleMarker at 0x7feec2114b00>,\n",
       " <folium.vector_layers.CircleMarker at 0x7feec224fc18>,\n",
       " <folium.vector_layers.CircleMarker at 0x7feec2226940>,\n",
       " <folium.vector_layers.CircleMarker at 0x7feec221c4a8>,\n",
       " <folium.vector_layers.CircleMarker at 0x7feec224f208>,\n",
       " <folium.vector_layers.CircleMarker at 0x7feec224f8d0>,\n",
       " <folium.vector_layers.CircleMarker at 0x7feec224ff28>,\n",
       " <folium.vector_layers.CircleMarker at 0x7feec20adef0>,\n",
       " <folium.vector_layers.CircleMarker at 0x7feec20dcac8>,\n",
       " <folium.vector_layers.CircleMarker at 0x7feec20adb70>,\n",
       " <folium.vector_layers.CircleMarker at 0x7feec20ad518>,\n",
       " <folium.vector_layers.CircleMarker at 0x7feec20f0fd0>,\n",
       " <folium.vector_layers.CircleMarker at 0x7feec20f0a58>,\n",
       " <folium.vector_layers.CircleMarker at 0x7feec20adba8>,\n",
       " <folium.vector_layers.CircleMarker at 0x7feec21b1128>,\n",
       " <folium.vector_layers.CircleMarker at 0x7feec21b10f0>,\n",
       " <folium.vector_layers.CircleMarker at 0x7feef332fcc0>,\n",
       " <folium.vector_layers.CircleMarker at 0x7feef332f470>,\n",
       " <folium.vector_layers.CircleMarker at 0x7feec20f0320>,\n",
       " <folium.vector_layers.CircleMarker at 0x7feec21b1470>,\n",
       " <folium.vector_layers.CircleMarker at 0x7feec21b1080>,\n",
       " <folium.vector_layers.CircleMarker at 0x7feee2951b70>,\n",
       " <folium.vector_layers.CircleMarker at 0x7feec20adb00>,\n",
       " <folium.vector_layers.CircleMarker at 0x7feec20ad8d0>,\n",
       " <folium.vector_layers.CircleMarker at 0x7feec20ad588>,\n",
       " <folium.vector_layers.CircleMarker at 0x7feec2114048>,\n",
       " <folium.vector_layers.CircleMarker at 0x7feef017e320>,\n",
       " <folium.vector_layers.CircleMarker at 0x7feec224f898>,\n",
       " <folium.vector_layers.CircleMarker at 0x7feec2103cc0>,\n",
       " <folium.vector_layers.CircleMarker at 0x7feec224fcf8>,\n",
       " <folium.vector_layers.CircleMarker at 0x7feec224fa20>,\n",
       " <folium.vector_layers.CircleMarker at 0x7feef332f860>,\n",
       " <folium.vector_layers.CircleMarker at 0x7feef332f588>,\n",
       " <folium.vector_layers.CircleMarker at 0x7feef3396e48>,\n",
       " <folium.vector_layers.CircleMarker at 0x7feef026e278>,\n",
       " <folium.vector_layers.CircleMarker at 0x7feef0272518>,\n",
       " <folium.vector_layers.CircleMarker at 0x7feef0278828>,\n",
       " <folium.vector_layers.CircleMarker at 0x7feef0275198>,\n",
       " <folium.vector_layers.CircleMarker at 0x7feef0275438>,\n",
       " <folium.vector_layers.CircleMarker at 0x7feef0275d68>,\n",
       " <folium.vector_layers.CircleMarker at 0x7feef026e470>,\n",
       " <folium.vector_layers.CircleMarker at 0x7feef02728d0>,\n",
       " <folium.vector_layers.CircleMarker at 0x7feef3396940>,\n",
       " <folium.vector_layers.CircleMarker at 0x7feec2a906d8>,\n",
       " <folium.vector_layers.CircleMarker at 0x7feec224f438>,\n",
       " <folium.vector_layers.CircleMarker at 0x7feec224fcc0>,\n",
       " <folium.vector_layers.CircleMarker at 0x7feec20f0cf8>,\n",
       " <folium.vector_layers.CircleMarker at 0x7feec20ade48>,\n",
       " <folium.vector_layers.CircleMarker at 0x7feec20ad780>,\n",
       " <folium.vector_layers.CircleMarker at 0x7feec21b10b8>,\n",
       " <folium.vector_layers.CircleMarker at 0x7feef332fa58>,\n",
       " <folium.vector_layers.CircleMarker at 0x7feef332f828>,\n",
       " <folium.vector_layers.CircleMarker at 0x7feef332fe80>,\n",
       " <folium.vector_layers.CircleMarker at 0x7feef332fb38>,\n",
       " <folium.vector_layers.CircleMarker at 0x7feef027eb70>,\n",
       " <folium.vector_layers.CircleMarker at 0x7feef027b1d0>,\n",
       " <folium.vector_layers.CircleMarker at 0x7feef027b080>,\n",
       " <folium.vector_layers.CircleMarker at 0x7feef027b860>,\n",
       " <folium.vector_layers.CircleMarker at 0x7feef02845f8>,\n",
       " <folium.vector_layers.CircleMarker at 0x7feef0284470>,\n",
       " <folium.vector_layers.CircleMarker at 0x7feef027e550>,\n",
       " <folium.vector_layers.CircleMarker at 0x7feef027b4a8>,\n",
       " <folium.vector_layers.CircleMarker at 0x7feef027bcc0>,\n",
       " <folium.vector_layers.CircleMarker at 0x7feec21b1160>,\n",
       " <folium.vector_layers.CircleMarker at 0x7feef9e25668>,\n",
       " <folium.vector_layers.CircleMarker at 0x7feec20ad1d0>,\n",
       " <folium.vector_layers.CircleMarker at 0x7feec20add68>,\n",
       " <folium.vector_layers.CircleMarker at 0x7feef3396c50>,\n",
       " <folium.vector_layers.CircleMarker at 0x7feec2103c18>,\n",
       " <folium.vector_layers.CircleMarker at 0x7feef0278b00>,\n",
       " <folium.vector_layers.CircleMarker at 0x7feec224f9e8>,\n",
       " <folium.vector_layers.CircleMarker at 0x7feec224f710>,\n",
       " <folium.vector_layers.CircleMarker at 0x7feef332f550>,\n",
       " <folium.vector_layers.CircleMarker at 0x7feef02849b0>,\n",
       " <folium.vector_layers.CircleMarker at 0x7feef0287128>,\n",
       " <folium.vector_layers.CircleMarker at 0x7feef02897f0>,\n",
       " <folium.vector_layers.CircleMarker at 0x7feef0287390>,\n",
       " <folium.vector_layers.CircleMarker at 0x7feef0287b70>,\n",
       " <folium.vector_layers.CircleMarker at 0x7feef0293128>,\n",
       " <folium.vector_layers.CircleMarker at 0x7feef0296080>,\n",
       " <folium.vector_layers.CircleMarker at 0x7feef028dac8>,\n",
       " <folium.vector_layers.CircleMarker at 0x7feef02994a8>,\n",
       " <folium.vector_layers.CircleMarker at 0x7feef02933c8>,\n",
       " <folium.vector_layers.CircleMarker at 0x7feef0287da0>,\n",
       " <folium.vector_layers.CircleMarker at 0x7feef02874e0>,\n",
       " <folium.vector_layers.CircleMarker at 0x7feef0284c50>,\n",
       " <folium.vector_layers.CircleMarker at 0x7feec224f7f0>,\n",
       " <folium.vector_layers.CircleMarker at 0x7feef0272b38>,\n",
       " <folium.vector_layers.CircleMarker at 0x7feef33353c8>,\n",
       " <folium.vector_layers.CircleMarker at 0x7feef028d6a0>,\n",
       " <folium.vector_layers.CircleMarker at 0x7feec20ad320>,\n",
       " <folium.vector_layers.CircleMarker at 0x7feef02752e8>,\n",
       " <folium.vector_layers.CircleMarker at 0x7feef0281e10>,\n",
       " <folium.vector_layers.CircleMarker at 0x7feef027bfd0>,\n",
       " <folium.vector_layers.CircleMarker at 0x7feef332f780>,\n",
       " <folium.vector_layers.CircleMarker at 0x7feef332f6a0>,\n",
       " <folium.vector_layers.CircleMarker at 0x7feef021c6a0>,\n",
       " <folium.vector_layers.CircleMarker at 0x7feef0220128>,\n",
       " <folium.vector_layers.CircleMarker at 0x7feef0225390>,\n",
       " <folium.vector_layers.CircleMarker at 0x7feef0223208>,\n",
       " <folium.vector_layers.CircleMarker at 0x7feef0223940>,\n",
       " <folium.vector_layers.CircleMarker at 0x7feef0290fd0>,\n",
       " <folium.vector_layers.CircleMarker at 0x7feef0228940>,\n",
       " <folium.vector_layers.CircleMarker at 0x7feef02258d0>,\n",
       " <folium.vector_layers.CircleMarker at 0x7feef021cdd8>,\n",
       " <folium.vector_layers.CircleMarker at 0x7feef0290b00>,\n",
       " <folium.vector_layers.CircleMarker at 0x7feef02905c0>,\n",
       " <folium.vector_layers.CircleMarker at 0x7feef0275eb8>,\n",
       " <folium.vector_layers.CircleMarker at 0x7feef332feb8>,\n",
       " <folium.vector_layers.CircleMarker at 0x7feef02235f8>,\n",
       " <folium.vector_layers.CircleMarker at 0x7feef017e390>,\n",
       " <folium.vector_layers.CircleMarker at 0x7feef026ec88>,\n",
       " <folium.vector_layers.CircleMarker at 0x7feef0284208>,\n",
       " <folium.vector_layers.CircleMarker at 0x7feef0287278>,\n",
       " <folium.vector_layers.CircleMarker at 0x7feec21b1198>,\n",
       " <folium.vector_layers.CircleMarker at 0x7feef02996d8>,\n",
       " <folium.vector_layers.CircleMarker at 0x7feef028d9b0>,\n",
       " <folium.vector_layers.CircleMarker at 0x7feef022b320>,\n",
       " <folium.vector_layers.CircleMarker at 0x7feef022bc18>,\n",
       " <folium.vector_layers.CircleMarker at 0x7feef022ee10>,\n",
       " <folium.vector_layers.CircleMarker at 0x7feef0232898>,\n",
       " <folium.vector_layers.CircleMarker at 0x7feef02354e0>,\n",
       " <folium.vector_layers.CircleMarker at 0x7feef0228710>,\n",
       " <folium.vector_layers.CircleMarker at 0x7feef023b1d0>,\n",
       " <folium.vector_layers.CircleMarker at 0x7feef023e550>,\n",
       " <folium.vector_layers.CircleMarker at 0x7feef0232320>,\n",
       " <folium.vector_layers.CircleMarker at 0x7feef022e940>,\n",
       " <folium.vector_layers.CircleMarker at 0x7feef0235668>,\n",
       " <folium.vector_layers.CircleMarker at 0x7feef0228588>,\n",
       " <folium.vector_layers.CircleMarker at 0x7feec21b1400>,\n",
       " <folium.vector_layers.CircleMarker at 0x7feef0289c50>,\n",
       " <folium.vector_layers.CircleMarker at 0x7feef028d898>,\n",
       " <folium.vector_layers.CircleMarker at 0x7feec20ad240>,\n",
       " <folium.vector_layers.CircleMarker at 0x7feef0223da0>,\n",
       " <folium.vector_layers.CircleMarker at 0x7feec224f550>,\n",
       " <folium.vector_layers.CircleMarker at 0x7feef021c7f0>,\n",
       " <folium.vector_layers.CircleMarker at 0x7feef332ff60>,\n",
       " <folium.vector_layers.CircleMarker at 0x7feef0290da0>,\n",
       " <folium.vector_layers.CircleMarker at 0x7feef0220978>,\n",
       " <folium.vector_layers.CircleMarker at 0x7feef0241160>,\n",
       " <folium.vector_layers.CircleMarker at 0x7feef0244160>,\n",
       " <folium.vector_layers.CircleMarker at 0x7feef024a198>,\n",
       " <folium.vector_layers.CircleMarker at 0x7feef0238dd8>,\n",
       " <folium.vector_layers.CircleMarker at 0x7feef02380f0>,\n",
       " <folium.vector_layers.CircleMarker at 0x7feef0253358>,\n",
       " <folium.vector_layers.CircleMarker at 0x7feef024d278>,\n",
       " <folium.vector_layers.CircleMarker at 0x7feef024d470>,\n",
       " <folium.vector_layers.CircleMarker at 0x7feef024da20>,\n",
       " <folium.vector_layers.CircleMarker at 0x7feef024ae10>,\n",
       " <folium.vector_layers.CircleMarker at 0x7feef0241fd0>,\n",
       " <folium.vector_layers.CircleMarker at 0x7feef023eb00>,\n",
       " <folium.vector_layers.CircleMarker at 0x7feef0290c50>,\n",
       " <folium.vector_layers.CircleMarker at 0x7feec224f400>,\n",
       " <folium.vector_layers.CircleMarker at 0x7feef332f0f0>,\n",
       " <folium.vector_layers.CircleMarker at 0x7feef028dbe0>,\n",
       " <folium.vector_layers.CircleMarker at 0x7feef022be48>,\n",
       " <folium.vector_layers.CircleMarker at 0x7feef0238208>,\n",
       " <folium.vector_layers.CircleMarker at 0x7feef02936d8>,\n",
       " <folium.vector_layers.CircleMarker at 0x7feef0287a58>,\n",
       " <folium.vector_layers.CircleMarker at 0x7feef0235278>,\n",
       " <folium.vector_layers.CircleMarker at 0x7feef0228080>,\n",
       " <folium.vector_layers.CircleMarker at 0x7feef0247908>,\n",
       " <folium.vector_layers.CircleMarker at 0x7feef0256cf8>,\n",
       " <folium.vector_layers.CircleMarker at 0x7feef02560f0>,\n",
       " <folium.vector_layers.CircleMarker at 0x7feef01e0278>,\n",
       " <folium.vector_layers.CircleMarker at 0x7feef0259748>]"
      ]
     },
     "execution_count": 86,
     "metadata": {},
     "output_type": "execute_result"
    }
   ],
   "source": [
    "map_with_markers"
   ]
  },
  {
   "cell_type": "markdown",
   "metadata": {},
   "source": [
    "### Using Nearest Neighbors"
   ]
  },
  {
   "cell_type": "markdown",
   "metadata": {},
   "source": [
    "Ok, let's write a function that given a latitude and longitude will predict the distance for us.  We'll do this by first finding the nearest trips given a latitude and longitude. "
   ]
  },
  {
   "cell_type": "markdown",
   "metadata": {},
   "source": [
    "Here we once again apply the nearest neighbors formula. As a first step, write a function named `distance_location` that calculates the distance in pickup location between two trips."
   ]
  },
  {
   "cell_type": "code",
   "execution_count": null,
   "metadata": {},
   "outputs": [],
   "source": [
    "import math\n",
    "\n",
    "def distance_location(selected_trip, neighbor_trip):\n",
    "    pass"
   ]
  },
  {
   "cell_type": "code",
   "execution_count": null,
   "metadata": {},
   "outputs": [],
   "source": [
    "first_trip = {'pickup_latitude': 40.64499, 'pickup_longitude': -73.78115, 'trip_distance': 18.38}\n",
    "second_trip = {'pickup_latitude': 40.766931, 'pickup_longitude': -73.982098, 'trip_distance': 1.3}\n",
    "distance_first_and_second = distance_location(first_trip, second_trip)\n",
    "\n",
    "distance_first_and_second and round(distance_first_and_second, 3) # 0.235"
   ]
  },
  {
   "cell_type": "markdown",
   "metadata": {},
   "source": [
    "Ok, next write a function called `distance_between_neighbors` that adds a new key-value pair, called `distance_from_selected`, that calculates the distance of the `neighbor_trip` from the `selected_trip`."
   ]
  },
  {
   "cell_type": "code",
   "execution_count": null,
   "metadata": {},
   "outputs": [],
   "source": [
    "def distance_between_neighbors(selected_trip, neighbor_trip):\n",
    "    pass"
   ]
  },
  {
   "cell_type": "code",
   "execution_count": null,
   "metadata": {},
   "outputs": [],
   "source": [
    "distance_between_neighbors(first_trip, second_trip)\n",
    "\n",
    "# {'distance_from_selected': 0.23505256047318146,\n",
    "#  'pickup_latitude': 40.766931,\n",
    "#  'pickup_longitude': -73.982098,\n",
    "#  'trip_distance': 1.3}"
   ]
  },
  {
   "cell_type": "markdown",
   "metadata": {},
   "source": [
    "Ok, now our `neighbor_trip` has another attribute called `distance_from_selected`, that indicates the distance from the `neighbor_trip`'s pickup location from the `selected_trip`."
   ]
  },
  {
   "cell_type": "markdown",
   "metadata": {},
   "source": [
    "> ** Understand the data:** Our dictionary now has a few attributes, two of which say distance.  Let's make sure we understand the difference. \n",
    "> * **`distance_from_selected`:** This is our calculation of the distance of the neighbor's pickup location from the selected trip.\n",
    "> * **`trip_distance`:** This is the attribute we were provided initially.  It tells us the length of the neighbor's taxi trip from pickup to drop-off.  "
   ]
  },
  {
   "cell_type": "markdown",
   "metadata": {},
   "source": [
    "Next, write a function called `distance_all` that provided a list of neighbors, returns each of those neighbors with their respective `distance_from_selected` numbers."
   ]
  },
  {
   "cell_type": "code",
   "execution_count": null,
   "metadata": {},
   "outputs": [],
   "source": [
    "def distance_all(selected_individual, neighbors):\n",
    "    pass"
   ]
  },
  {
   "cell_type": "code",
   "execution_count": null,
   "metadata": {},
   "outputs": [],
   "source": [
    "cleaned_trips and distance_all(first_trip, cleaned_trips[0:4])"
   ]
  },
  {
   "cell_type": "markdown",
   "metadata": {},
   "source": [
    "Now write the nearest neighbors formula to calculate the distance of the `selected_trip` from all of the `cleaned_trips` in our dataset.  If no number is provided, it should return the top 3 neighbors."
   ]
  },
  {
   "cell_type": "code",
   "execution_count": null,
   "metadata": {},
   "outputs": [],
   "source": [
    "def nearest_neighbors(selected_trip, trips, number = 3):\n",
    "    pass"
   ]
  },
  {
   "cell_type": "code",
   "execution_count": null,
   "metadata": {},
   "outputs": [],
   "source": [
    "new_trip = {'pickup_latitude': 40.64499,\n",
    "'pickup_longitude': -73.78115,\n",
    "'trip_distance': 18.38}\n",
    "\n",
    "nearest_three_neighbors = nearest_neighbors(new_trip, cleaned_trips or [], number = 3)\n",
    "nearest_three_neighbors\n",
    "# [{'distance_from_selected': 0.0004569288784918792,\n",
    "#   'pickup_latitude': 40.64483,\n",
    "#   'pickup_longitude': -73.781578,\n",
    "#   'trip_distance': 7.78},\n",
    "#  {'distance_from_selected': 0.0011292165425673159,\n",
    "#   'pickup_latitude': 40.644657,\n",
    "#   'pickup_longitude': -73.782229,\n",
    "#   'trip_distance': 12.7},\n",
    "#  {'distance_from_selected': 0.0042359798158141185,\n",
    "#   'pickup_latitude': 40.648509,\n",
    "#   'pickup_longitude': -73.783508,\n",
    "#   'trip_distance': 17.3}]"
   ]
  },
  {
   "cell_type": "markdown",
   "metadata": {},
   "source": [
    "Ok great! Now that we can provide a new trip location, and find the distances of the three nearest trips, we can take  calculate an estimate of the trip distance for that new trip location.  \n",
    "\n",
    "We do so simply by calculating the average of it's nearest neighbors."
   ]
  },
  {
   "cell_type": "code",
   "execution_count": null,
   "metadata": {},
   "outputs": [],
   "source": [
    "import statistics\n",
    "def mean_distance(neighbors):\n",
    "    nearest_distances = list(map(lambda neighbor: neighbor['trip_distance'], neighbors))\n",
    "    return round(statistics.mean(nearest_distances), 3)\n",
    "\n",
    "nearest_three_neighbors = nearest_neighbors(new_trip, cleaned_trips or [], number = 3)\n",
    "distance_estimate_of_selected_trip = mean_distance(nearest_three_neighbors) # 12.593\n",
    "distance_estimate_of_selected_trip"
   ]
  },
  {
   "cell_type": "markdown",
   "metadata": {},
   "source": [
    "### Choosing the correct number of neighbors"
   ]
  },
  {
   "cell_type": "markdown",
   "metadata": {},
   "source": [
    "Now, as we know from the last lesson, one tricky element is to determine how many neighbors to choose, our $k$ value,  before calculating the average.  We want to choose our value of $k$ such that it properly matches actual data, and so that it applies to new data.  There are fancy formulas to ensure that we **train** our algorithm so that our formula is optimized for all data, but here let's see different $k$ values manually.  This is the gist of choosing our $k$ value:\n",
    "\n",
    "* If we choose a $k$ value too low, our formula will be too heavily influenced by a single neighbor, whereas if our $k$ value is too high, we will be choosing so many neighbors that our nearest neighbors formula will not be adjust enough according to locations.\n",
    "\n",
    "Ok, let's experiment with this."
   ]
  },
  {
   "cell_type": "markdown",
   "metadata": {},
   "source": [
    "First, let's choose a midtown location, to see what the trip distance would be.  A Google search reveals the coordinates of 51st and 7th avenue to be the following."
   ]
  },
  {
   "cell_type": "code",
   "execution_count": null,
   "metadata": {},
   "outputs": [],
   "source": [
    "midtown_trip = dict(pickup_latitude=40.761710, pickup_longitude=-73.982760)"
   ]
  },
  {
   "cell_type": "code",
   "execution_count": null,
   "metadata": {},
   "outputs": [],
   "source": [
    "seven_closest = nearest_neighbors(midtown_trip, cleaned_trips, number = 7)\n",
    "seven_closest\n",
    "# [{'trip_distance': 0.58,\n",
    "#   'pickup_latitude': 40.761372,\n",
    "#   'pickup_longitude': -73.982602,\n",
    "#   'distance_from_selected': 0.00037310588309379025},\n",
    "#  {'trip_distance': 0.8,\n",
    "#   'pickup_latitude': 40.762444,\n",
    "#   'pickup_longitude': -73.98244,\n",
    "#   'distance_from_selected': 0.00080072217404248},\n",
    "#  {'trip_distance': 1.4,\n",
    "#   'pickup_latitude': 40.762767,\n",
    "#   'pickup_longitude': -73.982293,\n",
    "#   'distance_from_selected': 0.0011555682584735844},\n",
    "#  {'trip_distance': 8.3,\n",
    "#   'pickup_latitude': 40.762868,\n",
    "#   'pickup_longitude': -73.983233,\n",
    "#   'distance_from_selected': 0.0012508768924205918},\n",
    "#  {'trip_distance': 1.26,\n",
    "#   'pickup_latitude': 40.760057,\n",
    "#   'pickup_longitude': -73.983502,\n",
    "#   'distance_from_selected': 0.0018118976240381972},\n",
    "#  {'trip_distance': 0.0,\n",
    "#   'pickup_latitude': 40.760644,\n",
    "#   'pickup_longitude': -73.984531,\n",
    "#   'distance_from_selected': 0.002067074502774709},\n",
    "#  {'trip_distance': 1.72,\n",
    "#   'pickup_latitude': 40.762107,\n",
    "#   'pickup_longitude': -73.98479,\n",
    "#   'distance_from_selected': 0.0020684557041472677}]"
   ]
  },
  {
   "cell_type": "markdown",
   "metadata": {},
   "source": [
    "Looking at the `distance_from_selected` it appears that our our trips are still fairly close to our selected trip.  Notice that most of the data is within a distance of .002 away, so going to the top 7 nearest neighbors didn't seem to give us neighbors too far from each other, which is a good sign.\n",
    "\n",
    "Still, it's hard to know what distance in latitude and longitude really look like, so let's map the data. "
   ]
  },
  {
   "cell_type": "code",
   "execution_count": null,
   "metadata": {},
   "outputs": [],
   "source": [
    "midtown_location = location(midtown_trip) # [40.76171, -73.98276]\n",
    "midtown_map = map_from(midtown_location, 16)\n",
    "closest_markers = markers_from_trips(seven_closest)\n",
    "\n",
    "add_markers(closest_markers, midtown_map)"
   ]
  },
  {
   "cell_type": "markdown",
   "metadata": {},
   "source": [
    "Ok.  These locations stay fairly close to our estimated location of 51st street and 7th Avenue.  So they could be a good estimate of a trip distance."
   ]
  },
  {
   "cell_type": "code",
   "execution_count": null,
   "metadata": {},
   "outputs": [],
   "source": [
    "mean_distance(seven_closest) # 2.009"
   ]
  },
  {
   "cell_type": "markdown",
   "metadata": {},
   "source": [
    "Ok, now let's try a different location"
   ]
  },
  {
   "cell_type": "code",
   "execution_count": null,
   "metadata": {},
   "outputs": [],
   "source": [
    "charging_bull_closest = nearest_neighbors({'pickup_latitude': 40.7049, 'pickup_longitude': -74.0137}, cleaned_trips, number = 12)"
   ]
  },
  {
   "cell_type": "code",
   "execution_count": null,
   "metadata": {
    "scrolled": true
   },
   "outputs": [],
   "source": [
    "mean_distance(charging_bull_closest) # 3.145"
   ]
  },
  {
   "cell_type": "markdown",
   "metadata": {},
   "source": [
    "Ok, so there appears to be a significant difference between choosing a location near Times Square versus choosing a location at Wall Street."
   ]
  },
  {
   "cell_type": "markdown",
   "metadata": {},
   "source": [
    "### Summary"
   ]
  },
  {
   "cell_type": "markdown",
   "metadata": {},
   "source": [
    "In this lab, we used the nearest neighbors function to predict the length of a taxi ride.  To do so, we selected a location, then found a number of taxi rides closest to that location, and finally took the average trip lengths of the nearest taxi rides to find an estimate of the new ride's trip length.  You can see that even with just a little bit of math and programming we can begin to make meaningful predictions with data."
   ]
  }
 ],
 "metadata": {
  "kernelspec": {
   "display_name": "Python 3",
   "language": "python",
   "name": "python3"
  },
  "language_info": {
   "codemirror_mode": {
    "name": "ipython",
    "version": 3
   },
   "file_extension": ".py",
   "mimetype": "text/x-python",
   "name": "python",
   "nbconvert_exporter": "python",
   "pygments_lexer": "ipython3",
   "version": "3.6.6"
  }
 },
 "nbformat": 4,
 "nbformat_minor": 2
}
